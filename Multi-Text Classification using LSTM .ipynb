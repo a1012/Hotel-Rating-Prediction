{
 "cells": [
  {
   "cell_type": "markdown",
   "metadata": {},
   "source": [
    "# Importing Dependencies"
   ]
  },
  {
   "cell_type": "code",
   "execution_count": 66,
   "metadata": {},
   "outputs": [],
   "source": [
    "import numpy as np \n",
    "import pandas as pd\n",
    "import matplotlib.pyplot as plt\n",
    "import seaborn as sns\n",
    "from keras.preprocessing.text import Tokenizer\n",
    "from keras.preprocessing.sequence import pad_sequences\n",
    "from keras.models import Sequential\n",
    "from keras.layers import Dense, Embedding, LSTM, SpatialDropout1D\n",
    "from sklearn.model_selection import train_test_split\n",
    "from keras.utils.np_utils import to_categorical\n",
    "from keras.callbacks import EarlyStopping\n",
    "from keras.layers import Dropout\n",
    "import re\n",
    "from nltk.corpus import stopwords\n",
    "from nltk import word_tokenize\n",
    "STOPWORDS = set(stopwords.words('english'))\n",
    "from IPython.core.interactiveshell import InteractiveShell\n",
    "InteractiveShell.ast_node_interactivity = 'all'\n",
    "from sklearn.metrics import confusion_matrix,classification_report, accuracy_score,roc_auc_score"
   ]
  },
  {
   "cell_type": "code",
   "execution_count": 2,
   "metadata": {},
   "outputs": [],
   "source": [
    "#Reading the data\n",
    "df = pd.read_csv(\"C:/Users/ayu_a/Documents/Untitled Folder/concated.csv\")"
   ]
  },
  {
   "cell_type": "code",
   "execution_count": 3,
   "metadata": {},
   "outputs": [],
   "source": [
    "#Removing unwanted columns\n",
    "df.drop(['HotelRatings','HotelAddress','HotelName','Unnamed: 0','Authorlocation','AuthorName'],axis=1,inplace=True)"
   ]
  },
  {
   "cell_type": "code",
   "execution_count": 4,
   "metadata": {},
   "outputs": [
    {
     "data": {
      "text/plain": [
       "HotelPrice                                   0.000000\n",
       "Review                                       0.000000\n",
       "title                                        0.000000\n",
       "Service                                      9.054203\n",
       "Cleanliness                                  9.181028\n",
       "Overall                                      0.000000\n",
       "Value                                        9.029691\n",
       "Sleep Quality                               47.947068\n",
       "Rooms                                       17.773840\n",
       "Location                                    22.571790\n",
       "Business service (e.g., internet access)    89.300052\n",
       "Check in / front desk                       82.523484\n",
       "dtype: float64"
      ]
     },
     "execution_count": 4,
     "metadata": {},
     "output_type": "execute_result"
    }
   ],
   "source": [
    "#Checking the nill values\n",
    "(df.isnull().sum(axis=0)/len(df))*100"
   ]
  },
  {
   "cell_type": "code",
   "execution_count": 5,
   "metadata": {},
   "outputs": [],
   "source": [
    "#Droping columns having nulls with high percentage\n",
    "df.drop(['Sleep Quality','Business service (e.g., internet access)','Check in / front desk'],axis=1,inplace=True)"
   ]
  },
  {
   "cell_type": "code",
   "execution_count": 6,
   "metadata": {
    "scrolled": true
   },
   "outputs": [
    {
     "data": {
      "text/html": [
       "<div>\n",
       "<style scoped>\n",
       "    .dataframe tbody tr th:only-of-type {\n",
       "        vertical-align: middle;\n",
       "    }\n",
       "\n",
       "    .dataframe tbody tr th {\n",
       "        vertical-align: top;\n",
       "    }\n",
       "\n",
       "    .dataframe thead th {\n",
       "        text-align: right;\n",
       "    }\n",
       "</style>\n",
       "<table border=\"1\" class=\"dataframe\">\n",
       "  <thead>\n",
       "    <tr style=\"text-align: right;\">\n",
       "      <th></th>\n",
       "      <th>HotelPrice</th>\n",
       "      <th>Review</th>\n",
       "      <th>title</th>\n",
       "      <th>Service</th>\n",
       "      <th>Cleanliness</th>\n",
       "      <th>Overall</th>\n",
       "      <th>Value</th>\n",
       "      <th>Rooms</th>\n",
       "      <th>Location</th>\n",
       "    </tr>\n",
       "  </thead>\n",
       "  <tbody>\n",
       "    <tr>\n",
       "      <th>0</th>\n",
       "      <td>$135 - $193*</td>\n",
       "      <td>Usually stay near the airport, but this trip w...</td>\n",
       "      <td>“Great place and location”</td>\n",
       "      <td>5.0</td>\n",
       "      <td>5.0</td>\n",
       "      <td>5.0</td>\n",
       "      <td>5.0</td>\n",
       "      <td>5.0</td>\n",
       "      <td>5.0</td>\n",
       "    </tr>\n",
       "    <tr>\n",
       "      <th>1</th>\n",
       "      <td>$135 - $193*</td>\n",
       "      <td>Stayed at this Hilton for 2 nights. It was lik...</td>\n",
       "      <td>“Nice stay, nice surroundings”</td>\n",
       "      <td>4.0</td>\n",
       "      <td>4.0</td>\n",
       "      <td>4.0</td>\n",
       "      <td>4.0</td>\n",
       "      <td>4.0</td>\n",
       "      <td>5.0</td>\n",
       "    </tr>\n",
       "    <tr>\n",
       "      <th>2</th>\n",
       "      <td>$135 - $193*</td>\n",
       "      <td>Stayed there one night, December 16, on the wa...</td>\n",
       "      <td>“Perfect for an overnight just off I-95”</td>\n",
       "      <td>5.0</td>\n",
       "      <td>5.0</td>\n",
       "      <td>4.0</td>\n",
       "      <td>3.0</td>\n",
       "      <td>5.0</td>\n",
       "      <td>5.0</td>\n",
       "    </tr>\n",
       "    <tr>\n",
       "      <th>3</th>\n",
       "      <td>$135 - $193*</td>\n",
       "      <td>I just stayed here last weekend and have alrea...</td>\n",
       "      <td>“Great Hotel”</td>\n",
       "      <td>5.0</td>\n",
       "      <td>5.0</td>\n",
       "      <td>5.0</td>\n",
       "      <td>4.0</td>\n",
       "      <td>5.0</td>\n",
       "      <td>5.0</td>\n",
       "    </tr>\n",
       "    <tr>\n",
       "      <th>4</th>\n",
       "      <td>$135 - $193*</td>\n",
       "      <td>My mother who is 90 and I stayed one night on ...</td>\n",
       "      <td>“good room for handicapped person”</td>\n",
       "      <td>5.0</td>\n",
       "      <td>5.0</td>\n",
       "      <td>5.0</td>\n",
       "      <td>4.0</td>\n",
       "      <td>5.0</td>\n",
       "      <td>5.0</td>\n",
       "    </tr>\n",
       "  </tbody>\n",
       "</table>\n",
       "</div>"
      ],
      "text/plain": [
       "     HotelPrice                                             Review  \\\n",
       "0  $135 - $193*  Usually stay near the airport, but this trip w...   \n",
       "1  $135 - $193*  Stayed at this Hilton for 2 nights. It was lik...   \n",
       "2  $135 - $193*  Stayed there one night, December 16, on the wa...   \n",
       "3  $135 - $193*  I just stayed here last weekend and have alrea...   \n",
       "4  $135 - $193*  My mother who is 90 and I stayed one night on ...   \n",
       "\n",
       "                                      title  Service  Cleanliness  Overall  \\\n",
       "0                “Great place and location”      5.0          5.0      5.0   \n",
       "1            “Nice stay, nice surroundings”      4.0          4.0      4.0   \n",
       "2  “Perfect for an overnight just off I-95”      5.0          5.0      4.0   \n",
       "3                             “Great Hotel”      5.0          5.0      5.0   \n",
       "4        “good room for handicapped person”      5.0          5.0      5.0   \n",
       "\n",
       "   Value  Rooms  Location  \n",
       "0    5.0    5.0       5.0  \n",
       "1    4.0    4.0       5.0  \n",
       "2    3.0    5.0       5.0  \n",
       "3    4.0    5.0       5.0  \n",
       "4    4.0    5.0       5.0  "
      ]
     },
     "execution_count": 6,
     "metadata": {},
     "output_type": "execute_result"
    }
   ],
   "source": [
    "df.head()"
   ]
  },
  {
   "cell_type": "code",
   "execution_count": 7,
   "metadata": {},
   "outputs": [
    {
     "name": "stdout",
     "output_type": "stream",
     "text": [
      "<class 'pandas.core.frame.DataFrame'>\n",
      "RangeIndex: 1476839 entries, 0 to 1476838\n",
      "Data columns (total 9 columns):\n",
      " #   Column       Non-Null Count    Dtype  \n",
      "---  ------       --------------    -----  \n",
      " 0   HotelPrice   1476839 non-null  object \n",
      " 1   Review       1476839 non-null  object \n",
      " 2   title        1476839 non-null  object \n",
      " 3   Service      1343123 non-null  float64\n",
      " 4   Cleanliness  1341250 non-null  float64\n",
      " 5   Overall      1476839 non-null  float64\n",
      " 6   Value        1343485 non-null  float64\n",
      " 7   Rooms        1214348 non-null  float64\n",
      " 8   Location     1143490 non-null  float64\n",
      "dtypes: float64(6), object(3)\n",
      "memory usage: 101.4+ MB\n"
     ]
    }
   ],
   "source": [
    "df.info()"
   ]
  },
  {
   "cell_type": "code",
   "execution_count": 6,
   "metadata": {},
   "outputs": [],
   "source": [
    "df['Overall']=df.Overall.astype('str')"
   ]
  },
  {
   "cell_type": "code",
   "execution_count": 18,
   "metadata": {},
   "outputs": [
    {
     "data": {
      "text/plain": [
       "Int64Index([284049], dtype='int64')"
      ]
     },
     "execution_count": 18,
     "metadata": {},
     "output_type": "execute_result"
    }
   ],
   "source": [
    "df[df.Overall == '0.0'].index"
   ]
  },
  {
   "cell_type": "code",
   "execution_count": 7,
   "metadata": {},
   "outputs": [],
   "source": [
    "#Droping the row which has no rating.\n",
    "df.drop(df[df.Overall == '0.0'].index, inplace = True) "
   ]
  },
  {
   "cell_type": "code",
   "execution_count": 8,
   "metadata": {},
   "outputs": [
    {
     "data": {
      "text/plain": [
       "5.0    615476\n",
       "4.0    463650\n",
       "3.0    195121\n",
       "2.0    103418\n",
       "1.0     99173\n",
       "Name: Overall, dtype: int64"
      ]
     },
     "execution_count": 8,
     "metadata": {},
     "output_type": "execute_result"
    }
   ],
   "source": [
    "df.Overall.value_counts()"
   ]
  },
  {
   "cell_type": "code",
   "execution_count": 9,
   "metadata": {},
   "outputs": [],
   "source": [
    "df[\"ReviewDetails\"]=df['title']+\" \"+df[\"Review\"]"
   ]
  },
  {
   "cell_type": "code",
   "execution_count": 37,
   "metadata": {},
   "outputs": [
    {
     "data": {
      "text/html": [
       "<div>\n",
       "<style scoped>\n",
       "    .dataframe tbody tr th:only-of-type {\n",
       "        vertical-align: middle;\n",
       "    }\n",
       "\n",
       "    .dataframe tbody tr th {\n",
       "        vertical-align: top;\n",
       "    }\n",
       "\n",
       "    .dataframe thead th {\n",
       "        text-align: right;\n",
       "    }\n",
       "</style>\n",
       "<table border=\"1\" class=\"dataframe\">\n",
       "  <thead>\n",
       "    <tr style=\"text-align: right;\">\n",
       "      <th></th>\n",
       "      <th>HotelPrice</th>\n",
       "      <th>Review</th>\n",
       "      <th>title</th>\n",
       "      <th>Service</th>\n",
       "      <th>Cleanliness</th>\n",
       "      <th>Overall</th>\n",
       "      <th>Value</th>\n",
       "      <th>Rooms</th>\n",
       "      <th>Location</th>\n",
       "      <th>ReviewDetails</th>\n",
       "    </tr>\n",
       "  </thead>\n",
       "  <tbody>\n",
       "    <tr>\n",
       "      <th>0</th>\n",
       "      <td>$135 - $193*</td>\n",
       "      <td>Usually stay near the airport, but this trip w...</td>\n",
       "      <td>“Great place and location”</td>\n",
       "      <td>5.0</td>\n",
       "      <td>5.0</td>\n",
       "      <td>5.0</td>\n",
       "      <td>5.0</td>\n",
       "      <td>5.0</td>\n",
       "      <td>5.0</td>\n",
       "      <td>“Great place and location” Usually stay near t...</td>\n",
       "    </tr>\n",
       "    <tr>\n",
       "      <th>1</th>\n",
       "      <td>$135 - $193*</td>\n",
       "      <td>Stayed at this Hilton for 2 nights. It was lik...</td>\n",
       "      <td>“Nice stay, nice surroundings”</td>\n",
       "      <td>4.0</td>\n",
       "      <td>4.0</td>\n",
       "      <td>4.0</td>\n",
       "      <td>4.0</td>\n",
       "      <td>4.0</td>\n",
       "      <td>5.0</td>\n",
       "      <td>“Nice stay, nice surroundings” Stayed at this ...</td>\n",
       "    </tr>\n",
       "    <tr>\n",
       "      <th>2</th>\n",
       "      <td>$135 - $193*</td>\n",
       "      <td>Stayed there one night, December 16, on the wa...</td>\n",
       "      <td>“Perfect for an overnight just off I-95”</td>\n",
       "      <td>5.0</td>\n",
       "      <td>5.0</td>\n",
       "      <td>4.0</td>\n",
       "      <td>3.0</td>\n",
       "      <td>5.0</td>\n",
       "      <td>5.0</td>\n",
       "      <td>“Perfect for an overnight just off I-95” Staye...</td>\n",
       "    </tr>\n",
       "    <tr>\n",
       "      <th>3</th>\n",
       "      <td>$135 - $193*</td>\n",
       "      <td>I just stayed here last weekend and have alrea...</td>\n",
       "      <td>“Great Hotel”</td>\n",
       "      <td>5.0</td>\n",
       "      <td>5.0</td>\n",
       "      <td>5.0</td>\n",
       "      <td>4.0</td>\n",
       "      <td>5.0</td>\n",
       "      <td>5.0</td>\n",
       "      <td>“Great Hotel” I just stayed here last weekend ...</td>\n",
       "    </tr>\n",
       "    <tr>\n",
       "      <th>4</th>\n",
       "      <td>$135 - $193*</td>\n",
       "      <td>My mother who is 90 and I stayed one night on ...</td>\n",
       "      <td>“good room for handicapped person”</td>\n",
       "      <td>5.0</td>\n",
       "      <td>5.0</td>\n",
       "      <td>5.0</td>\n",
       "      <td>4.0</td>\n",
       "      <td>5.0</td>\n",
       "      <td>5.0</td>\n",
       "      <td>“good room for handicapped person” My mother w...</td>\n",
       "    </tr>\n",
       "    <tr>\n",
       "      <th>...</th>\n",
       "      <td>...</td>\n",
       "      <td>...</td>\n",
       "      <td>...</td>\n",
       "      <td>...</td>\n",
       "      <td>...</td>\n",
       "      <td>...</td>\n",
       "      <td>...</td>\n",
       "      <td>...</td>\n",
       "      <td>...</td>\n",
       "      <td>...</td>\n",
       "    </tr>\n",
       "    <tr>\n",
       "      <th>1476834</th>\n",
       "      <td>$184 - $341*</td>\n",
       "      <td>I just visited NYC this past weekend with fami...</td>\n",
       "      <td>“Awesome Location. Nice rooms!”</td>\n",
       "      <td>NaN</td>\n",
       "      <td>NaN</td>\n",
       "      <td>4.0</td>\n",
       "      <td>NaN</td>\n",
       "      <td>NaN</td>\n",
       "      <td>NaN</td>\n",
       "      <td>“Awesome Location. Nice rooms!” I just visited...</td>\n",
       "    </tr>\n",
       "    <tr>\n",
       "      <th>1476835</th>\n",
       "      <td>$184 - $341*</td>\n",
       "      <td>Location is alright. A good walk from Times Sq...</td>\n",
       "      <td>“its alright”</td>\n",
       "      <td>NaN</td>\n",
       "      <td>NaN</td>\n",
       "      <td>3.0</td>\n",
       "      <td>NaN</td>\n",
       "      <td>NaN</td>\n",
       "      <td>NaN</td>\n",
       "      <td>“its alright” Location is alright. A good walk...</td>\n",
       "    </tr>\n",
       "    <tr>\n",
       "      <th>1476836</th>\n",
       "      <td>$184 - $341*</td>\n",
       "      <td>We just got back last weekend. We were looking...</td>\n",
       "      <td>“Fabulous for the price, nice and clean!! Perf...</td>\n",
       "      <td>3.0</td>\n",
       "      <td>3.0</td>\n",
       "      <td>4.0</td>\n",
       "      <td>4.0</td>\n",
       "      <td>3.0</td>\n",
       "      <td>NaN</td>\n",
       "      <td>“Fabulous for the price, nice and clean!! Perf...</td>\n",
       "    </tr>\n",
       "    <tr>\n",
       "      <th>1476837</th>\n",
       "      <td>$184 - $341*</td>\n",
       "      <td>Ok... while most of the reviews seem good of t...</td>\n",
       "      <td>“Nightmare!!”</td>\n",
       "      <td>NaN</td>\n",
       "      <td>NaN</td>\n",
       "      <td>1.0</td>\n",
       "      <td>NaN</td>\n",
       "      <td>NaN</td>\n",
       "      <td>NaN</td>\n",
       "      <td>“Nightmare!!” Ok... while most of the reviews ...</td>\n",
       "    </tr>\n",
       "    <tr>\n",
       "      <th>1476838</th>\n",
       "      <td>$184 - $341*</td>\n",
       "      <td>My family and I stayed at the La Quninta over ...</td>\n",
       "      <td>“A fantastic value place to stay”</td>\n",
       "      <td>NaN</td>\n",
       "      <td>NaN</td>\n",
       "      <td>5.0</td>\n",
       "      <td>NaN</td>\n",
       "      <td>NaN</td>\n",
       "      <td>NaN</td>\n",
       "      <td>“A fantastic value place to stay” My family an...</td>\n",
       "    </tr>\n",
       "  </tbody>\n",
       "</table>\n",
       "<p>1476839 rows × 10 columns</p>\n",
       "</div>"
      ],
      "text/plain": [
       "           HotelPrice                                             Review  \\\n",
       "0        $135 - $193*  Usually stay near the airport, but this trip w...   \n",
       "1        $135 - $193*  Stayed at this Hilton for 2 nights. It was lik...   \n",
       "2        $135 - $193*  Stayed there one night, December 16, on the wa...   \n",
       "3        $135 - $193*  I just stayed here last weekend and have alrea...   \n",
       "4        $135 - $193*  My mother who is 90 and I stayed one night on ...   \n",
       "...               ...                                                ...   \n",
       "1476834  $184 - $341*  I just visited NYC this past weekend with fami...   \n",
       "1476835  $184 - $341*  Location is alright. A good walk from Times Sq...   \n",
       "1476836  $184 - $341*  We just got back last weekend. We were looking...   \n",
       "1476837  $184 - $341*  Ok... while most of the reviews seem good of t...   \n",
       "1476838  $184 - $341*  My family and I stayed at the La Quninta over ...   \n",
       "\n",
       "                                                     title  Service  \\\n",
       "0                               “Great place and location”      5.0   \n",
       "1                           “Nice stay, nice surroundings”      4.0   \n",
       "2                 “Perfect for an overnight just off I-95”      5.0   \n",
       "3                                            “Great Hotel”      5.0   \n",
       "4                       “good room for handicapped person”      5.0   \n",
       "...                                                    ...      ...   \n",
       "1476834                    “Awesome Location. Nice rooms!”      NaN   \n",
       "1476835                                      “its alright”      NaN   \n",
       "1476836  “Fabulous for the price, nice and clean!! Perf...      3.0   \n",
       "1476837                                      “Nightmare!!”      NaN   \n",
       "1476838                  “A fantastic value place to stay”      NaN   \n",
       "\n",
       "         Cleanliness  Overall  Value  Rooms  Location  \\\n",
       "0                5.0      5.0    5.0    5.0       5.0   \n",
       "1                4.0      4.0    4.0    4.0       5.0   \n",
       "2                5.0      4.0    3.0    5.0       5.0   \n",
       "3                5.0      5.0    4.0    5.0       5.0   \n",
       "4                5.0      5.0    4.0    5.0       5.0   \n",
       "...              ...      ...    ...    ...       ...   \n",
       "1476834          NaN      4.0    NaN    NaN       NaN   \n",
       "1476835          NaN      3.0    NaN    NaN       NaN   \n",
       "1476836          3.0      4.0    4.0    3.0       NaN   \n",
       "1476837          NaN      1.0    NaN    NaN       NaN   \n",
       "1476838          NaN      5.0    NaN    NaN       NaN   \n",
       "\n",
       "                                             ReviewDetails  \n",
       "0        “Great place and location” Usually stay near t...  \n",
       "1        “Nice stay, nice surroundings” Stayed at this ...  \n",
       "2        “Perfect for an overnight just off I-95” Staye...  \n",
       "3        “Great Hotel” I just stayed here last weekend ...  \n",
       "4        “good room for handicapped person” My mother w...  \n",
       "...                                                    ...  \n",
       "1476834  “Awesome Location. Nice rooms!” I just visited...  \n",
       "1476835  “its alright” Location is alright. A good walk...  \n",
       "1476836  “Fabulous for the price, nice and clean!! Perf...  \n",
       "1476837  “Nightmare!!” Ok... while most of the reviews ...  \n",
       "1476838  “A fantastic value place to stay” My family an...  \n",
       "\n",
       "[1476839 rows x 10 columns]"
      ]
     },
     "execution_count": 37,
     "metadata": {},
     "output_type": "execute_result"
    }
   ],
   "source": [
    "df"
   ]
  },
  {
   "cell_type": "code",
   "execution_count": 22,
   "metadata": {},
   "outputs": [],
   "source": [
    "def print_plot(index):\n",
    "    example = df[df.index == index][['ReviewDetails' ,'Overall','HotelPrice']].values[0]\n",
    "    if len(example) > 0:\n",
    "        print(example[0])\n",
    "        print('rating:', example[1])\n",
    "        print('price',example[2])"
   ]
  },
  {
   "cell_type": "code",
   "execution_count": 23,
   "metadata": {},
   "outputs": [
    {
     "name": "stdout",
     "output_type": "stream",
     "text": [
      "“What a great experience!” Due to unforeseen circumstances, I found myself looking for a hotel in my area. I remembered the few hotels in the White Marsh area and immediately called the Hilton. They quoted me a single king bed at $199. I then asked for military discount and the room came down to $99. Wow! What a great surprise. Especially since $199 was very high. When I got there, I definitely saw why the hotel had higher prices. WHAT A GREAT HOTEL!!!! The room had a fridge, microwave, and nice coffee area. Great sitting area with a couch and desk. And the bed! The bed was great! It molds to your body and is amazing. After a rough day, it was very nice to have such a comfortable place. I loved that they also offered free internet. If need be, I would stay here again, and I would def recommend to out of town guests. BTW, the front desk girl was very friendly and she seemed to genuinely enjoy her hotel and her job.\n",
      "rating: 5.0\n",
      "price $135 - $193*\n"
     ]
    }
   ],
   "source": [
    "print_plot(10)"
   ]
  },
  {
   "cell_type": "code",
   "execution_count": 24,
   "metadata": {},
   "outputs": [
    {
     "name": "stdout",
     "output_type": "stream",
     "text": [
      "“Hotel Monaco - great Seattle location” For location, this hotel is ideal - it is right in the heart of downtown, we walked to Pioneer Sq, Pike Street market, downtown shopping etc. The 5pm wine reception is a really nice touch. Check-in was a bit odd - they seemed not to find our booking and were a bit uncommunicative, then our room was 904, next to the elevators, which we heard constantly. Not a big deal, other then early in the morning but one to avoid. Overall, good for a short stay.\n",
      "rating: 4.0\n",
      "price $184 - $345*\n"
     ]
    }
   ],
   "source": [
    "print_plot(100)"
   ]
  },
  {
   "cell_type": "markdown",
   "metadata": {},
   "source": [
    "### Removing stop words"
   ]
  },
  {
   "cell_type": "code",
   "execution_count": 10,
   "metadata": {},
   "outputs": [],
   "source": [
    "df = df.reset_index(drop=True)\n",
    "REPLACE_BY_SPACE_RE = re.compile('[/(){}\\[\\]\\|@,;]')\n",
    "BAD_SYMBOLS_RE = re.compile('[^0-9a-z #+_]')\n",
    "STOPWORDS = set(stopwords.words('english'))\n",
    "\n",
    "def clean_text(text):\n",
    "    \"\"\"\n",
    "        text: a string\n",
    "        \n",
    "        return: modified initial string\n",
    "    \"\"\"\n",
    "    text = text.lower() # lowercase text\n",
    "    text = REPLACE_BY_SPACE_RE.sub(' ', text) # replace REPLACE_BY_SPACE_RE symbols by space in text. substitute the matched string in REPLACE_BY_SPACE_RE with space.\n",
    "    text = BAD_SYMBOLS_RE.sub('', text) # remove symbols which are in BAD_SYMBOLS_RE from text. substitute the matched string in BAD_SYMBOLS_RE with nothing. \n",
    "    #text = text.replace('x', '')\n",
    "#    text = re.sub(r'\\W+', '', text)\n",
    "    text = ' '.join(word for word in text.split() if word not in STOPWORDS) # remove stopwors from text\n",
    "    return text\n",
    "df['ReviewDetails'] = df['ReviewDetails'].apply(clean_text)"
   ]
  },
  {
   "cell_type": "code",
   "execution_count": 11,
   "metadata": {},
   "outputs": [],
   "source": [
    "df['ReviewDetails'] = df['ReviewDetails'].str.replace('\\d+', '')\n"
   ]
  },
  {
   "cell_type": "code",
   "execution_count": 27,
   "metadata": {},
   "outputs": [
    {
     "name": "stdout",
     "output_type": "stream",
     "text": [
      "nice stay nice surroundings stayed hilton  nights like hilton garden inns nice people pleasant cheap good breakfast  small nice workout facilities pool good rooms bathrooms appreciated free shuttle mall plenty restaurants ikea etc\n",
      "rating: 4.0\n",
      "price $135 - $193*\n"
     ]
    }
   ],
   "source": [
    "print_plot(1)"
   ]
  },
  {
   "cell_type": "code",
   "execution_count": 28,
   "metadata": {},
   "outputs": [
    {
     "name": "stdout",
     "output_type": "stream",
     "text": [
      "hotel monaco great seattle location location hotel ideal right heart downtown walked pioneer sq pike street market downtown shopping etc pm wine reception really nice touch checkin bit odd seemed find booking bit uncommunicative room  next elevators heard constantly big deal early morning one avoid overall good short stay\n",
      "rating: 4.0\n",
      "price $184 - $345*\n"
     ]
    }
   ],
   "source": [
    "print_plot(100)"
   ]
  },
  {
   "cell_type": "code",
   "execution_count": 12,
   "metadata": {},
   "outputs": [],
   "source": [
    "train_data = df['ReviewDetails']+\" \"+df['HotelPrice']"
   ]
  },
  {
   "cell_type": "markdown",
   "metadata": {},
   "source": [
    "### one-hot encoding"
   ]
  },
  {
   "cell_type": "code",
   "execution_count": 13,
   "metadata": {},
   "outputs": [
    {
     "name": "stdout",
     "output_type": "stream",
     "text": [
      "Shape of label tensor: (1476838, 5)\n"
     ]
    }
   ],
   "source": [
    "#Convert categorical variable into dummy/indicator variables.\n",
    "Y = pd.get_dummies(df['Overall']).values\n",
    "print('Shape of label tensor:', Y.shape)"
   ]
  },
  {
   "cell_type": "markdown",
   "metadata": {},
   "source": [
    "### Split into train and test"
   ]
  },
  {
   "cell_type": "code",
   "execution_count": 14,
   "metadata": {},
   "outputs": [
    {
     "name": "stdout",
     "output_type": "stream",
     "text": [
      "(1329154,) (1329154, 5)\n",
      "(147684,) (147684, 5)\n"
     ]
    }
   ],
   "source": [
    "X_train, X_test, Y_train, Y_test = train_test_split(train_data,Y, test_size = 0.10, random_state = 42)\n",
    "print(X_train.shape,Y_train.shape)\n",
    "print(X_test.shape,Y_test.shape)"
   ]
  },
  {
   "cell_type": "markdown",
   "metadata": {},
   "source": [
    "### Tokenizing"
   ]
  },
  {
   "cell_type": "code",
   "execution_count": 15,
   "metadata": {},
   "outputs": [
    {
     "name": "stdout",
     "output_type": "stream",
     "text": [
      "Found 527674 unique tokens.\n"
     ]
    }
   ],
   "source": [
    "# The maximum number of words to be used. (most frequent)\n",
    "MAX_NB_WORDS = 50000\n",
    "# Max number of words in each complaint.\n",
    "MAX_SEQUENCE_LENGTH = 250\n",
    "# This is fixed.\n",
    "EMBEDDING_DIM = 100\n",
    "\n",
    "tokenizer = Tokenizer(num_words=MAX_NB_WORDS, filters='!\"#$%&()*+,-./:;<=>?@[\\]^_`{|}~', lower=True)\n",
    "tokenizer.fit_on_texts(X_train)\n",
    "word_index = tokenizer.word_index\n",
    "print('Found %s unique tokens.' % len(word_index))"
   ]
  },
  {
   "cell_type": "code",
   "execution_count": 16,
   "metadata": {},
   "outputs": [
    {
     "name": "stdout",
     "output_type": "stream",
     "text": [
      "Found 553548 unique tokens.\n"
     ]
    }
   ],
   "source": [
    "#Tokenize on test Set\n",
    "tokenizer.fit_on_texts(X_test)\n",
    "word_index = tokenizer.word_index\n",
    "print('Found %s unique tokens.' % len(word_index))"
   ]
  },
  {
   "cell_type": "code",
   "execution_count": 17,
   "metadata": {},
   "outputs": [
    {
     "name": "stdout",
     "output_type": "stream",
     "text": [
      "Shape of data tensor: (1329154, 250)\n"
     ]
    }
   ],
   "source": [
    "# Transform each text in texts in a sequence of integers.\n",
    "X_train_tokenize = tokenizer.texts_to_sequences(X_train)\n",
    "#pad_sequences is used to ensure that all sequences in a list have the same length.\n",
    "X_train_final = pad_sequences(X_train_tokenize, maxlen=MAX_SEQUENCE_LENGTH)\n",
    "print('Shape of data tensor:', X_train_final.shape)"
   ]
  },
  {
   "cell_type": "code",
   "execution_count": 18,
   "metadata": {},
   "outputs": [
    {
     "name": "stdout",
     "output_type": "stream",
     "text": [
      "Shape of data tensor(test Set): (147684, 250)\n"
     ]
    }
   ],
   "source": [
    "#Test Set\n",
    "# Transform each text in texts in a sequence of integers.\n",
    "X_test_tokenize = tokenizer.texts_to_sequences(X_test)\n",
    "#pad_sequences is used to ensure that all sequences in a list have the same length.\n",
    "X_test_final = pad_sequences(X_test_tokenize, maxlen=MAX_SEQUENCE_LENGTH)\n",
    "print('Shape of data tensor(test Set):', X_test_final.shape)\n"
   ]
  },
  {
   "cell_type": "code",
   "execution_count": 43,
   "metadata": {},
   "outputs": [
    {
     "name": "stdout",
     "output_type": "stream",
     "text": [
      "(1329154, 250) (1329154, 5)\n",
      "(147684, 250) (147684, 5)\n"
     ]
    }
   ],
   "source": [
    "print(X_train_final.shape,Y_train.shape)\n",
    "print(X_test_final.shape,Y_test.shape)"
   ]
  },
  {
   "cell_type": "markdown",
   "metadata": {},
   "source": [
    "# Training and Batch Processing"
   ]
  },
  {
   "cell_type": "code",
   "execution_count": 19,
   "metadata": {},
   "outputs": [
    {
     "name": "stdout",
     "output_type": "stream",
     "text": [
      "Model: \"sequential_1\"\n",
      "_________________________________________________________________\n",
      "Layer (type)                 Output Shape              Param #   \n",
      "=================================================================\n",
      "embedding_1 (Embedding)      (None, 250, 100)          5000000   \n",
      "_________________________________________________________________\n",
      "spatial_dropout1d_1 (Spatial (None, 250, 100)          0         \n",
      "_________________________________________________________________\n",
      "lstm_1 (LSTM)                (None, 250, 100)          80400     \n",
      "_________________________________________________________________\n",
      "lstm_2 (LSTM)                (None, 250, 50)           30200     \n",
      "_________________________________________________________________\n",
      "lstm_3 (LSTM)                (None, 10)                2440      \n",
      "_________________________________________________________________\n",
      "dense_1 (Dense)              (None, 5)                 55        \n",
      "=================================================================\n",
      "Total params: 5,113,095\n",
      "Trainable params: 5,113,095\n",
      "Non-trainable params: 0\n",
      "_________________________________________________________________\n",
      "None\n"
     ]
    }
   ],
   "source": [
    "model = Sequential()\n",
    "model.add(Embedding(MAX_NB_WORDS, EMBEDDING_DIM, input_length=X_train_final.shape[1]))\n",
    "model.add(SpatialDropout1D(0.2))\n",
    "model.add(LSTM(100, dropout=0.2, recurrent_dropout=0.2,return_sequences=True))\n",
    "model.add(LSTM(50, dropout=0.2, recurrent_dropout=0.2,return_sequences=True))\n",
    "model.add(LSTM(10,dropout=0.2, recurrent_dropout=0.2))\n",
    "model.add(Dense(5, activation='softmax'))\n",
    "model.compile(loss='categorical_crossentropy', optimizer='adam', metrics=['accuracy'])\n",
    "print(model.summary())"
   ]
  },
  {
   "cell_type": "code",
   "execution_count": 21,
   "metadata": {
    "scrolled": false
   },
   "outputs": [
    {
     "name": "stdout",
     "output_type": "stream",
     "text": [
      "Train on 1196238 samples, validate on 132916 samples\n",
      "Epoch 1/5\n",
      "1196238/1196238 [==============================] - 11347s 9ms/step - loss: 0.7852 - accuracy: 0.6533 - val_loss: 0.7084 - val_accuracy: 0.6879\n",
      "Epoch 2/5\n",
      "1196238/1196238 [==============================] - 9577s 8ms/step - loss: 0.6938 - accuracy: 0.6956 - val_loss: 0.6811 - val_accuracy: 0.7002\n",
      "Epoch 3/5\n",
      "1196238/1196238 [==============================] - 9620s 8ms/step - loss: 0.6589 - accuracy: 0.7132 - val_loss: 0.6680 - val_accuracy: 0.7088\n",
      "Epoch 4/5\n",
      "1196238/1196238 [==============================] - 9555s 8ms/step - loss: 0.6301 - accuracy: 0.7289 - val_loss: 0.6630 - val_accuracy: 0.7155\n",
      "Epoch 5/5\n",
      "1196238/1196238 [==============================] - 11270s 9ms/step - loss: 0.6048 - accuracy: 0.7426 - val_loss: 0.6623 - val_accuracy: 0.7182\n"
     ]
    }
   ],
   "source": [
    "epochs = 5\n",
    "batch_size = 128\n",
    "\n",
    "history = model.fit(X_train_final, Y_train, epochs=epochs, batch_size=batch_size,validation_split=0.1,callbacks=[EarlyStopping(monitor='val_loss', patience=3, min_delta=0.0001)])"
   ]
  },
  {
   "cell_type": "code",
   "execution_count": 23,
   "metadata": {},
   "outputs": [
    {
     "name": "stdout",
     "output_type": "stream",
     "text": [
      "147684/147684 [==============================] - 2412s 16ms/step\n",
      "Test set\n",
      "  Loss: 0.658\n",
      "  Accuracy: 0.720\n"
     ]
    }
   ],
   "source": [
    "accr = model.evaluate(X_test_final,Y_test)\n",
    "print('Test set\\n  Loss: {:0.3f}\\n  Accuracy: {:0.3f}'.format(accr[0],accr[1]))"
   ]
  },
  {
   "cell_type": "code",
   "execution_count": 26,
   "metadata": {},
   "outputs": [],
   "source": [
    "pred_test = model.predict(X_test_final)"
   ]
  },
  {
   "cell_type": "markdown",
   "metadata": {},
   "source": [
    "# Model Evaluation"
   ]
  },
  {
   "cell_type": "code",
   "execution_count": 37,
   "metadata": {},
   "outputs": [
    {
     "data": {
      "text/plain": [
       "array([[ 8030,  1526,   141,    46,    38],\n",
       "       [ 2212,  5633,  2007,   323,    61],\n",
       "       [  384,  3124, 10522,  5180,   345],\n",
       "       [   64,   317,  3248, 30518, 12188],\n",
       "       [   45,    73,   222,  9800, 51637]], dtype=int64)"
      ]
     },
     "execution_count": 37,
     "metadata": {},
     "output_type": "execute_result"
    }
   ],
   "source": [
    "#Confusion Matrix\n",
    "Confusion_matrix = confusion_matrix(Y_test.argmax(axis=1), pred_test.argmax(axis=1))\n",
    "Confusion_matrix"
   ]
  },
  {
   "cell_type": "code",
   "execution_count": 50,
   "metadata": {},
   "outputs": [
    {
     "data": {
      "text/plain": [
       "0.7200509195308903"
      ]
     },
     "execution_count": 50,
     "metadata": {},
     "output_type": "execute_result"
    }
   ],
   "source": [
    "accuracy = accuracy_score(Y_test.argmax(axis=1), pred_test.argmax(axis=1))\n",
    "accuracy"
   ]
  },
  {
   "cell_type": "code",
   "execution_count": 51,
   "metadata": {},
   "outputs": [
    {
     "name": "stdout",
     "output_type": "stream",
     "text": [
      "              precision    recall  f1-score   support\n",
      "\n",
      "           0       0.75      0.82      0.78      9781\n",
      "           1       0.53      0.55      0.54     10236\n",
      "           2       0.65      0.54      0.59     19555\n",
      "           3       0.67      0.66      0.66     46335\n",
      "           4       0.80      0.84      0.82     61777\n",
      "\n",
      "    accuracy                           0.72    147684\n",
      "   macro avg       0.68      0.68      0.68    147684\n",
      "weighted avg       0.72      0.72      0.72    147684\n",
      "\n"
     ]
    }
   ],
   "source": [
    "print(classification_report(Y_test.argmax(axis=1), pred_test.argmax(axis=1)))"
   ]
  },
  {
   "cell_type": "code",
   "execution_count": 65,
   "metadata": {
    "scrolled": true
   },
   "outputs": [
    {
     "data": {
      "text/plain": [
       "0.9283904326463178"
      ]
     },
     "execution_count": 65,
     "metadata": {},
     "output_type": "execute_result"
    }
   ],
   "source": [
    "#Roc score\n",
    "score= roc_auc_score(Y_test, pred_test,multi_class='ovo')\n",
    "score"
   ]
  },
  {
   "cell_type": "markdown",
   "metadata": {},
   "source": [
    "# Test with a new review."
   ]
  },
  {
   "cell_type": "code",
   "execution_count": 46,
   "metadata": {},
   "outputs": [
    {
     "name": "stdout",
     "output_type": "stream",
     "text": [
      "Rating for the given review: 1\n"
     ]
    }
   ],
   "source": [
    "new_review = ['The room was dump; there was a small wardrobe which we could not use as it was not pleasant (to me). I will have rather place a open wardrobe.']\n",
    "seq = tokenizer.texts_to_sequences(new_review)\n",
    "padded = pad_sequences(seq, maxlen=MAX_SEQUENCE_LENGTH)\n",
    "pred = model.predict(padded)\n",
    "labels = [1,2,3,4,5]\n",
    "print(\"Rating for the given review:\",labels[np.argmax(pred)])"
   ]
  }
 ],
 "metadata": {
  "kernelspec": {
   "display_name": "Python 3",
   "language": "python",
   "name": "python3"
  },
  "language_info": {
   "codemirror_mode": {
    "name": "ipython",
    "version": 3
   },
   "file_extension": ".py",
   "mimetype": "text/x-python",
   "name": "python",
   "nbconvert_exporter": "python",
   "pygments_lexer": "ipython3",
   "version": "3.7.6"
  }
 },
 "nbformat": 4,
 "nbformat_minor": 2
}
