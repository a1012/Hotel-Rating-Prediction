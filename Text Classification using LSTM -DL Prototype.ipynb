{
 "cells": [
  {
   "cell_type": "markdown",
   "metadata": {},
   "source": [
    "# Import statements"
   ]
  },
  {
   "cell_type": "code",
   "execution_count": 130,
   "metadata": {},
   "outputs": [
    {
     "data": {
      "text/html": [
       "        <script type=\"text/javascript\">\n",
       "        window.PlotlyConfig = {MathJaxConfig: 'local'};\n",
       "        if (window.MathJax) {MathJax.Hub.Config({SVG: {font: \"STIX-Web\"}});}\n",
       "        if (typeof require !== 'undefined') {\n",
       "        require.undef(\"plotly\");\n",
       "        requirejs.config({\n",
       "            paths: {\n",
       "                'plotly': ['https://cdn.plot.ly/plotly-latest.min']\n",
       "            }\n",
       "        });\n",
       "        require(['plotly'], function(Plotly) {\n",
       "            window._Plotly = Plotly;\n",
       "        });\n",
       "        }\n",
       "        </script>\n",
       "        "
      ]
     },
     "metadata": {},
     "output_type": "display_data"
    }
   ],
   "source": [
    "import numpy as np \n",
    "import pandas as pd\n",
    "import matplotlib.pyplot as plt\n",
    "import seaborn as sns\n",
    "from keras.preprocessing.text import Tokenizer\n",
    "from keras.preprocessing.sequence import pad_sequences\n",
    "from keras.models import Sequential\n",
    "from keras.layers import Dense, Embedding, LSTM, SpatialDropout1D\n",
    "from sklearn.model_selection import train_test_split\n",
    "from keras.utils.np_utils import to_categorical\n",
    "from keras.callbacks import EarlyStopping\n",
    "from keras.layers import Dropout\n",
    "import re\n",
    "from nltk.corpus import stopwords\n",
    "from nltk import word_tokenize\n",
    "STOPWORDS = set(stopwords.words('english'))\n",
    "from bs4 import BeautifulSoup\n",
    "from IPython.core.interactiveshell import InteractiveShell\n",
    "import plotly.figure_factory as ff\n",
    "InteractiveShell.ast_node_interactivity = 'all'\n"
   ]
  },
  {
   "cell_type": "code",
   "execution_count": 131,
   "metadata": {},
   "outputs": [],
   "source": [
    "#Reading the data\n",
    "df = pd.read_csv(\"C:/Users/ayu_a/Documents/Untitled Folder/concated.csv\")"
   ]
  },
  {
   "cell_type": "code",
   "execution_count": 70,
   "metadata": {},
   "outputs": [],
   "source": [
    "#Droping unwanted columns\n",
    "df.drop(['HotelRatings','HotelAddress','HotelName','Unnamed: 0','Authorlocation','AuthorName'],axis=1,inplace=True)"
   ]
  },
  {
   "cell_type": "code",
   "execution_count": 71,
   "metadata": {},
   "outputs": [
    {
     "data": {
      "text/plain": [
       "HotelPrice                                   0.000000\n",
       "Review                                       0.000000\n",
       "title                                        0.000000\n",
       "Service                                      9.054203\n",
       "Cleanliness                                  9.181028\n",
       "Overall                                      0.000000\n",
       "Value                                        9.029691\n",
       "Sleep Quality                               47.947068\n",
       "Rooms                                       17.773840\n",
       "Location                                    22.571790\n",
       "Business service (e.g., internet access)    89.300052\n",
       "Check in / front desk                       82.523484\n",
       "dtype: float64"
      ]
     },
     "execution_count": 71,
     "metadata": {},
     "output_type": "execute_result"
    }
   ],
   "source": [
    "#checking the null values\n",
    "(df.isnull().sum(axis=0)/len(df))*100"
   ]
  },
  {
   "cell_type": "code",
   "execution_count": 72,
   "metadata": {},
   "outputs": [],
   "source": [
    "#Droping  columns having nulls with high percentage\n",
    "df.drop(['Sleep Quality','Business service (e.g., internet access)','Check in / front desk'],axis=1,inplace=True)"
   ]
  },
  {
   "cell_type": "code",
   "execution_count": 77,
   "metadata": {
    "scrolled": true
   },
   "outputs": [
    {
     "data": {
      "text/html": [
       "<div>\n",
       "<style scoped>\n",
       "    .dataframe tbody tr th:only-of-type {\n",
       "        vertical-align: middle;\n",
       "    }\n",
       "\n",
       "    .dataframe tbody tr th {\n",
       "        vertical-align: top;\n",
       "    }\n",
       "\n",
       "    .dataframe thead th {\n",
       "        text-align: right;\n",
       "    }\n",
       "</style>\n",
       "<table border=\"1\" class=\"dataframe\">\n",
       "  <thead>\n",
       "    <tr style=\"text-align: right;\">\n",
       "      <th></th>\n",
       "      <th>HotelPrice</th>\n",
       "      <th>Review</th>\n",
       "      <th>title</th>\n",
       "      <th>Service</th>\n",
       "      <th>Cleanliness</th>\n",
       "      <th>Overall</th>\n",
       "      <th>Value</th>\n",
       "      <th>Rooms</th>\n",
       "      <th>Location</th>\n",
       "    </tr>\n",
       "  </thead>\n",
       "  <tbody>\n",
       "    <tr>\n",
       "      <th>0</th>\n",
       "      <td>$135 - $193*</td>\n",
       "      <td>Usually stay near the airport, but this trip w...</td>\n",
       "      <td>“Great place and location”</td>\n",
       "      <td>5.0</td>\n",
       "      <td>5.0</td>\n",
       "      <td>5.0</td>\n",
       "      <td>5.0</td>\n",
       "      <td>5.0</td>\n",
       "      <td>5.0</td>\n",
       "    </tr>\n",
       "    <tr>\n",
       "      <th>1</th>\n",
       "      <td>$135 - $193*</td>\n",
       "      <td>Stayed at this Hilton for 2 nights. It was lik...</td>\n",
       "      <td>“Nice stay, nice surroundings”</td>\n",
       "      <td>4.0</td>\n",
       "      <td>4.0</td>\n",
       "      <td>4.0</td>\n",
       "      <td>4.0</td>\n",
       "      <td>4.0</td>\n",
       "      <td>5.0</td>\n",
       "    </tr>\n",
       "    <tr>\n",
       "      <th>2</th>\n",
       "      <td>$135 - $193*</td>\n",
       "      <td>Stayed there one night, December 16, on the wa...</td>\n",
       "      <td>“Perfect for an overnight just off I-95”</td>\n",
       "      <td>5.0</td>\n",
       "      <td>5.0</td>\n",
       "      <td>4.0</td>\n",
       "      <td>3.0</td>\n",
       "      <td>5.0</td>\n",
       "      <td>5.0</td>\n",
       "    </tr>\n",
       "    <tr>\n",
       "      <th>3</th>\n",
       "      <td>$135 - $193*</td>\n",
       "      <td>I just stayed here last weekend and have alrea...</td>\n",
       "      <td>“Great Hotel”</td>\n",
       "      <td>5.0</td>\n",
       "      <td>5.0</td>\n",
       "      <td>5.0</td>\n",
       "      <td>4.0</td>\n",
       "      <td>5.0</td>\n",
       "      <td>5.0</td>\n",
       "    </tr>\n",
       "    <tr>\n",
       "      <th>4</th>\n",
       "      <td>$135 - $193*</td>\n",
       "      <td>My mother who is 90 and I stayed one night on ...</td>\n",
       "      <td>“good room for handicapped person”</td>\n",
       "      <td>5.0</td>\n",
       "      <td>5.0</td>\n",
       "      <td>5.0</td>\n",
       "      <td>4.0</td>\n",
       "      <td>5.0</td>\n",
       "      <td>5.0</td>\n",
       "    </tr>\n",
       "  </tbody>\n",
       "</table>\n",
       "</div>"
      ],
      "text/plain": [
       "     HotelPrice                                             Review  \\\n",
       "0  $135 - $193*  Usually stay near the airport, but this trip w...   \n",
       "1  $135 - $193*  Stayed at this Hilton for 2 nights. It was lik...   \n",
       "2  $135 - $193*  Stayed there one night, December 16, on the wa...   \n",
       "3  $135 - $193*  I just stayed here last weekend and have alrea...   \n",
       "4  $135 - $193*  My mother who is 90 and I stayed one night on ...   \n",
       "\n",
       "                                      title  Service  Cleanliness  Overall  \\\n",
       "0                “Great place and location”      5.0          5.0      5.0   \n",
       "1            “Nice stay, nice surroundings”      4.0          4.0      4.0   \n",
       "2  “Perfect for an overnight just off I-95”      5.0          5.0      4.0   \n",
       "3                             “Great Hotel”      5.0          5.0      5.0   \n",
       "4        “good room for handicapped person”      5.0          5.0      5.0   \n",
       "\n",
       "   Value  Rooms  Location  \n",
       "0    5.0    5.0       5.0  \n",
       "1    4.0    4.0       5.0  \n",
       "2    3.0    5.0       5.0  \n",
       "3    4.0    5.0       5.0  \n",
       "4    4.0    5.0       5.0  "
      ]
     },
     "execution_count": 77,
     "metadata": {},
     "output_type": "execute_result"
    }
   ],
   "source": [
    "df.head()"
   ]
  },
  {
   "cell_type": "code",
   "execution_count": 78,
   "metadata": {},
   "outputs": [
    {
     "name": "stdout",
     "output_type": "stream",
     "text": [
      "<class 'pandas.core.frame.DataFrame'>\n",
      "RangeIndex: 1476839 entries, 0 to 1476838\n",
      "Data columns (total 9 columns):\n",
      " #   Column       Non-Null Count    Dtype  \n",
      "---  ------       --------------    -----  \n",
      " 0   HotelPrice   1476839 non-null  object \n",
      " 1   Review       1476839 non-null  object \n",
      " 2   title        1476839 non-null  object \n",
      " 3   Service      1343123 non-null  float64\n",
      " 4   Cleanliness  1341250 non-null  float64\n",
      " 5   Overall      1476839 non-null  float64\n",
      " 6   Value        1343485 non-null  float64\n",
      " 7   Rooms        1214348 non-null  float64\n",
      " 8   Location     1143490 non-null  float64\n",
      "dtypes: float64(6), object(3)\n",
      "memory usage: 101.4+ MB\n"
     ]
    }
   ],
   "source": [
    "df.info()"
   ]
  },
  {
   "cell_type": "code",
   "execution_count": 75,
   "metadata": {},
   "outputs": [
    {
     "data": {
      "text/plain": [
       "5.0    615476\n",
       "4.0    463650\n",
       "3.0    195121\n",
       "2.0    103418\n",
       "1.0     99173\n",
       "0.0         1\n",
       "Name: Overall, dtype: int64"
      ]
     },
     "execution_count": 75,
     "metadata": {},
     "output_type": "execute_result"
    }
   ],
   "source": [
    "df.Overall.value_counts()"
   ]
  },
  {
   "cell_type": "code",
   "execution_count": 81,
   "metadata": {},
   "outputs": [],
   "source": [
    "df[\"ReviewDetails\"]=df['title']+\" \"+df[\"Review\"]"
   ]
  },
  {
   "cell_type": "code",
   "execution_count": 82,
   "metadata": {},
   "outputs": [
    {
     "data": {
      "text/html": [
       "<div>\n",
       "<style scoped>\n",
       "    .dataframe tbody tr th:only-of-type {\n",
       "        vertical-align: middle;\n",
       "    }\n",
       "\n",
       "    .dataframe tbody tr th {\n",
       "        vertical-align: top;\n",
       "    }\n",
       "\n",
       "    .dataframe thead th {\n",
       "        text-align: right;\n",
       "    }\n",
       "</style>\n",
       "<table border=\"1\" class=\"dataframe\">\n",
       "  <thead>\n",
       "    <tr style=\"text-align: right;\">\n",
       "      <th></th>\n",
       "      <th>HotelPrice</th>\n",
       "      <th>Review</th>\n",
       "      <th>title</th>\n",
       "      <th>Service</th>\n",
       "      <th>Cleanliness</th>\n",
       "      <th>Overall</th>\n",
       "      <th>Value</th>\n",
       "      <th>Rooms</th>\n",
       "      <th>Location</th>\n",
       "      <th>ReviewDetails</th>\n",
       "    </tr>\n",
       "  </thead>\n",
       "  <tbody>\n",
       "    <tr>\n",
       "      <th>0</th>\n",
       "      <td>$135 - $193*</td>\n",
       "      <td>Usually stay near the airport, but this trip w...</td>\n",
       "      <td>“Great place and location”</td>\n",
       "      <td>5.0</td>\n",
       "      <td>5.0</td>\n",
       "      <td>5.0</td>\n",
       "      <td>5.0</td>\n",
       "      <td>5.0</td>\n",
       "      <td>5.0</td>\n",
       "      <td>“Great place and location” Usually stay near t...</td>\n",
       "    </tr>\n",
       "    <tr>\n",
       "      <th>1</th>\n",
       "      <td>$135 - $193*</td>\n",
       "      <td>Stayed at this Hilton for 2 nights. It was lik...</td>\n",
       "      <td>“Nice stay, nice surroundings”</td>\n",
       "      <td>4.0</td>\n",
       "      <td>4.0</td>\n",
       "      <td>4.0</td>\n",
       "      <td>4.0</td>\n",
       "      <td>4.0</td>\n",
       "      <td>5.0</td>\n",
       "      <td>“Nice stay, nice surroundings” Stayed at this ...</td>\n",
       "    </tr>\n",
       "    <tr>\n",
       "      <th>2</th>\n",
       "      <td>$135 - $193*</td>\n",
       "      <td>Stayed there one night, December 16, on the wa...</td>\n",
       "      <td>“Perfect for an overnight just off I-95”</td>\n",
       "      <td>5.0</td>\n",
       "      <td>5.0</td>\n",
       "      <td>4.0</td>\n",
       "      <td>3.0</td>\n",
       "      <td>5.0</td>\n",
       "      <td>5.0</td>\n",
       "      <td>“Perfect for an overnight just off I-95” Staye...</td>\n",
       "    </tr>\n",
       "    <tr>\n",
       "      <th>3</th>\n",
       "      <td>$135 - $193*</td>\n",
       "      <td>I just stayed here last weekend and have alrea...</td>\n",
       "      <td>“Great Hotel”</td>\n",
       "      <td>5.0</td>\n",
       "      <td>5.0</td>\n",
       "      <td>5.0</td>\n",
       "      <td>4.0</td>\n",
       "      <td>5.0</td>\n",
       "      <td>5.0</td>\n",
       "      <td>“Great Hotel” I just stayed here last weekend ...</td>\n",
       "    </tr>\n",
       "    <tr>\n",
       "      <th>4</th>\n",
       "      <td>$135 - $193*</td>\n",
       "      <td>My mother who is 90 and I stayed one night on ...</td>\n",
       "      <td>“good room for handicapped person”</td>\n",
       "      <td>5.0</td>\n",
       "      <td>5.0</td>\n",
       "      <td>5.0</td>\n",
       "      <td>4.0</td>\n",
       "      <td>5.0</td>\n",
       "      <td>5.0</td>\n",
       "      <td>“good room for handicapped person” My mother w...</td>\n",
       "    </tr>\n",
       "    <tr>\n",
       "      <th>...</th>\n",
       "      <td>...</td>\n",
       "      <td>...</td>\n",
       "      <td>...</td>\n",
       "      <td>...</td>\n",
       "      <td>...</td>\n",
       "      <td>...</td>\n",
       "      <td>...</td>\n",
       "      <td>...</td>\n",
       "      <td>...</td>\n",
       "      <td>...</td>\n",
       "    </tr>\n",
       "    <tr>\n",
       "      <th>1476834</th>\n",
       "      <td>$184 - $341*</td>\n",
       "      <td>I just visited NYC this past weekend with fami...</td>\n",
       "      <td>“Awesome Location. Nice rooms!”</td>\n",
       "      <td>NaN</td>\n",
       "      <td>NaN</td>\n",
       "      <td>4.0</td>\n",
       "      <td>NaN</td>\n",
       "      <td>NaN</td>\n",
       "      <td>NaN</td>\n",
       "      <td>“Awesome Location. Nice rooms!” I just visited...</td>\n",
       "    </tr>\n",
       "    <tr>\n",
       "      <th>1476835</th>\n",
       "      <td>$184 - $341*</td>\n",
       "      <td>Location is alright. A good walk from Times Sq...</td>\n",
       "      <td>“its alright”</td>\n",
       "      <td>NaN</td>\n",
       "      <td>NaN</td>\n",
       "      <td>3.0</td>\n",
       "      <td>NaN</td>\n",
       "      <td>NaN</td>\n",
       "      <td>NaN</td>\n",
       "      <td>“its alright” Location is alright. A good walk...</td>\n",
       "    </tr>\n",
       "    <tr>\n",
       "      <th>1476836</th>\n",
       "      <td>$184 - $341*</td>\n",
       "      <td>We just got back last weekend. We were looking...</td>\n",
       "      <td>“Fabulous for the price, nice and clean!! Perf...</td>\n",
       "      <td>3.0</td>\n",
       "      <td>3.0</td>\n",
       "      <td>4.0</td>\n",
       "      <td>4.0</td>\n",
       "      <td>3.0</td>\n",
       "      <td>NaN</td>\n",
       "      <td>“Fabulous for the price, nice and clean!! Perf...</td>\n",
       "    </tr>\n",
       "    <tr>\n",
       "      <th>1476837</th>\n",
       "      <td>$184 - $341*</td>\n",
       "      <td>Ok... while most of the reviews seem good of t...</td>\n",
       "      <td>“Nightmare!!”</td>\n",
       "      <td>NaN</td>\n",
       "      <td>NaN</td>\n",
       "      <td>1.0</td>\n",
       "      <td>NaN</td>\n",
       "      <td>NaN</td>\n",
       "      <td>NaN</td>\n",
       "      <td>“Nightmare!!” Ok... while most of the reviews ...</td>\n",
       "    </tr>\n",
       "    <tr>\n",
       "      <th>1476838</th>\n",
       "      <td>$184 - $341*</td>\n",
       "      <td>My family and I stayed at the La Quninta over ...</td>\n",
       "      <td>“A fantastic value place to stay”</td>\n",
       "      <td>NaN</td>\n",
       "      <td>NaN</td>\n",
       "      <td>5.0</td>\n",
       "      <td>NaN</td>\n",
       "      <td>NaN</td>\n",
       "      <td>NaN</td>\n",
       "      <td>“A fantastic value place to stay” My family an...</td>\n",
       "    </tr>\n",
       "  </tbody>\n",
       "</table>\n",
       "<p>1476839 rows × 10 columns</p>\n",
       "</div>"
      ],
      "text/plain": [
       "           HotelPrice                                             Review  \\\n",
       "0        $135 - $193*  Usually stay near the airport, but this trip w...   \n",
       "1        $135 - $193*  Stayed at this Hilton for 2 nights. It was lik...   \n",
       "2        $135 - $193*  Stayed there one night, December 16, on the wa...   \n",
       "3        $135 - $193*  I just stayed here last weekend and have alrea...   \n",
       "4        $135 - $193*  My mother who is 90 and I stayed one night on ...   \n",
       "...               ...                                                ...   \n",
       "1476834  $184 - $341*  I just visited NYC this past weekend with fami...   \n",
       "1476835  $184 - $341*  Location is alright. A good walk from Times Sq...   \n",
       "1476836  $184 - $341*  We just got back last weekend. We were looking...   \n",
       "1476837  $184 - $341*  Ok... while most of the reviews seem good of t...   \n",
       "1476838  $184 - $341*  My family and I stayed at the La Quninta over ...   \n",
       "\n",
       "                                                     title  Service  \\\n",
       "0                               “Great place and location”      5.0   \n",
       "1                           “Nice stay, nice surroundings”      4.0   \n",
       "2                 “Perfect for an overnight just off I-95”      5.0   \n",
       "3                                            “Great Hotel”      5.0   \n",
       "4                       “good room for handicapped person”      5.0   \n",
       "...                                                    ...      ...   \n",
       "1476834                    “Awesome Location. Nice rooms!”      NaN   \n",
       "1476835                                      “its alright”      NaN   \n",
       "1476836  “Fabulous for the price, nice and clean!! Perf...      3.0   \n",
       "1476837                                      “Nightmare!!”      NaN   \n",
       "1476838                  “A fantastic value place to stay”      NaN   \n",
       "\n",
       "         Cleanliness  Overall  Value  Rooms  Location  \\\n",
       "0                5.0      5.0    5.0    5.0       5.0   \n",
       "1                4.0      4.0    4.0    4.0       5.0   \n",
       "2                5.0      4.0    3.0    5.0       5.0   \n",
       "3                5.0      5.0    4.0    5.0       5.0   \n",
       "4                5.0      5.0    4.0    5.0       5.0   \n",
       "...              ...      ...    ...    ...       ...   \n",
       "1476834          NaN      4.0    NaN    NaN       NaN   \n",
       "1476835          NaN      3.0    NaN    NaN       NaN   \n",
       "1476836          3.0      4.0    4.0    3.0       NaN   \n",
       "1476837          NaN      1.0    NaN    NaN       NaN   \n",
       "1476838          NaN      5.0    NaN    NaN       NaN   \n",
       "\n",
       "                                             ReviewDetails  \n",
       "0        “Great place and location” Usually stay near t...  \n",
       "1        “Nice stay, nice surroundings” Stayed at this ...  \n",
       "2        “Perfect for an overnight just off I-95” Staye...  \n",
       "3        “Great Hotel” I just stayed here last weekend ...  \n",
       "4        “good room for handicapped person” My mother w...  \n",
       "...                                                    ...  \n",
       "1476834  “Awesome Location. Nice rooms!” I just visited...  \n",
       "1476835  “its alright” Location is alright. A good walk...  \n",
       "1476836  “Fabulous for the price, nice and clean!! Perf...  \n",
       "1476837  “Nightmare!!” Ok... while most of the reviews ...  \n",
       "1476838  “A fantastic value place to stay” My family an...  \n",
       "\n",
       "[1476839 rows x 10 columns]"
      ]
     },
     "execution_count": 82,
     "metadata": {},
     "output_type": "execute_result"
    }
   ],
   "source": [
    "df"
   ]
  },
  {
   "cell_type": "code",
   "execution_count": 128,
   "metadata": {},
   "outputs": [],
   "source": [
    "def print_plot(index):\n",
    "    example = df[df.index == index][['ReviewDetails' ,'Overall']].values[0]\n",
    "    if len(example) > 0:\n",
    "        print(example[0])\n",
    "        print('rating:', example[1])\n",
    "        print('price',example[2])"
   ]
  },
  {
   "cell_type": "code",
   "execution_count": 129,
   "metadata": {},
   "outputs": [
    {
     "name": "stdout",
     "output_type": "stream",
     "text": [
      "great eperience due unforeseen circumstances found looking hotel area remembered hotels white marsh area immediately called hilton quoted single king bed  asked military discount room came  wow great surprise especially since  high got definitely saw hotel higher prices great hotel room fridge microwave nice coffee area great sitting area couch desk bed bed great molds body amazing rough day nice comfortable place loved also offered free internet need would stay would def recommend town guests btw front desk girl friendly seemed genuinely enjoy hotel job\n",
      "rating: 5.0\n",
      "price $135 - $193*\n"
     ]
    }
   ],
   "source": [
    "print_plot(10)"
   ]
  },
  {
   "cell_type": "code",
   "execution_count": 85,
   "metadata": {},
   "outputs": [
    {
     "name": "stdout",
     "output_type": "stream",
     "text": [
      "“Hotel Monaco - great Seattle location” For location, this hotel is ideal - it is right in the heart of downtown, we walked to Pioneer Sq, Pike Street market, downtown shopping etc. The 5pm wine reception is a really nice touch. Check-in was a bit odd - they seemed not to find our booking and were a bit uncommunicative, then our room was 904, next to the elevators, which we heard constantly. Not a big deal, other then early in the morning but one to avoid. Overall, good for a short stay.\n",
      "rating: 4.0\n"
     ]
    }
   ],
   "source": [
    "print_plot(100)"
   ]
  },
  {
   "cell_type": "markdown",
   "metadata": {},
   "source": [
    "### Stopword Removal and data cleaning"
   ]
  },
  {
   "cell_type": "code",
   "execution_count": 89,
   "metadata": {},
   "outputs": [],
   "source": [
    "df = df.reset_index(drop=True)\n",
    "REPLACE_BY_SPACE_RE = re.compile('[/(){}\\[\\]\\|@,;]')\n",
    "BAD_SYMBOLS_RE = re.compile('[^0-9a-z #+_]')\n",
    "STOPWORDS = set(stopwords.words('english'))\n",
    "\n",
    "def clean_text(text):\n",
    "    \"\"\"\n",
    "        text: a string\n",
    "        \n",
    "        return: modified initial string\n",
    "    \"\"\"\n",
    "    text = text.lower() # lowercase text\n",
    "    text = REPLACE_BY_SPACE_RE.sub(' ', text) # replace REPLACE_BY_SPACE_RE symbols by space in text. substitute the matched string in REPLACE_BY_SPACE_RE with space.\n",
    "    text = BAD_SYMBOLS_RE.sub('', text) # remove symbols which are in BAD_SYMBOLS_RE from text. substitute the matched string in BAD_SYMBOLS_RE with nothing. \n",
    "    #text = text.replace('x', '')\n",
    "#    text = re.sub(r'\\W+', '', text)\n",
    "    text = ' '.join(word for word in text.split() if word not in STOPWORDS) # remove stopwors from text\n",
    "    return text\n",
    "df['ReviewDetails'] = df['ReviewDetails'].apply(clean_text)"
   ]
  },
  {
   "cell_type": "code",
   "execution_count": 95,
   "metadata": {},
   "outputs": [],
   "source": [
    "df['ReviewDetails'] = df['ReviewDetails'].str.replace('\\d+', '')"
   ]
  },
  {
   "cell_type": "code",
   "execution_count": 108,
   "metadata": {},
   "outputs": [
    {
     "name": "stdout",
     "output_type": "stream",
     "text": [
      "nice stay nice surroundings stayed hilton  nights like hilton garden inns nice people pleasant cheap good breakfast  small nice workout facilities pool good rooms bathrooms appreciated free shuttle mall plenty restaurants ikea etc\n",
      "rating: 4.0\n"
     ]
    }
   ],
   "source": [
    "print_plot(1)"
   ]
  },
  {
   "cell_type": "code",
   "execution_count": 98,
   "metadata": {},
   "outputs": [
    {
     "name": "stdout",
     "output_type": "stream",
     "text": [
      "hotel monaco great seattle location location hotel ideal right heart downtown walked pioneer sq pike street market downtown shopping etc pm wine reception really nice touch checkin bit odd seemed find booking bit uncommunicative room  net elevators heard constantly big deal early morning one avoid overall good short stay\n",
      "rating: 4.0\n"
     ]
    }
   ],
   "source": [
    "print_plot(100)"
   ]
  },
  {
   "cell_type": "markdown",
   "metadata": {},
   "source": [
    "#### Tokenizing and one hot encoding"
   ]
  },
  {
   "cell_type": "code",
   "execution_count": 99,
   "metadata": {},
   "outputs": [
    {
     "name": "stdout",
     "output_type": "stream",
     "text": [
      "Found 550808 unique tokens.\n"
     ]
    }
   ],
   "source": [
    "# The maximum number of words to be used. (most frequent)\n",
    "MAX_NB_WORDS = 50000\n",
    "# Max number of words in each complaint.\n",
    "MAX_SEQUENCE_LENGTH = 250\n",
    "# This is fixed.\n",
    "EMBEDDING_DIM = 100\n",
    "\n",
    "tokenizer = Tokenizer(num_words=MAX_NB_WORDS, filters='!\"#$%&()*+,-./:;<=>?@[\\]^_`{|}~', lower=True)\n",
    "tokenizer.fit_on_texts(df['ReviewDetails'].values)\n",
    "word_index = tokenizer.word_index\n",
    "print('Found %s unique tokens.' % len(word_index))"
   ]
  },
  {
   "cell_type": "code",
   "execution_count": 100,
   "metadata": {},
   "outputs": [
    {
     "name": "stdout",
     "output_type": "stream",
     "text": [
      "Shape of data tensor: (1476839, 250)\n"
     ]
    }
   ],
   "source": [
    "# Transform each text in texts in a sequence of integers.\n",
    "X = tokenizer.texts_to_sequences(df['ReviewDetails'].values)\n",
    "#pad_sequences is used to ensure that all sequences in a list have the same length. \n",
    "X = pad_sequences(X, maxlen=MAX_SEQUENCE_LENGTH)\n",
    "print('Shape of data tensor:', X.shape)"
   ]
  },
  {
   "cell_type": "code",
   "execution_count": 105,
   "metadata": {},
   "outputs": [
    {
     "name": "stdout",
     "output_type": "stream",
     "text": [
      "Shape of label tensor: (1476839, 5)\n"
     ]
    }
   ],
   "source": [
    "#Convert categorical variable into dummy/indicator variables.\n",
    "Y = pd.get_dummies(df['Overall'],drop_first=True).values\n",
    "print('Shape of label tensor:', Y.shape)"
   ]
  },
  {
   "cell_type": "markdown",
   "metadata": {},
   "source": [
    "#### Train and Test split"
   ]
  },
  {
   "cell_type": "code",
   "execution_count": 110,
   "metadata": {},
   "outputs": [
    {
     "name": "stdout",
     "output_type": "stream",
     "text": [
      "(1329155, 250) (1329155, 5)\n",
      "(147684, 250) (147684, 5)\n"
     ]
    }
   ],
   "source": [
    "X_train, X_test, Y_train, Y_test = train_test_split(X,Y, test_size = 0.10, random_state = 42)\n",
    "print(X_train.shape,Y_train.shape)\n",
    "print(X_test.shape,Y_test.shape)"
   ]
  },
  {
   "cell_type": "markdown",
   "metadata": {},
   "source": [
    "# LSTM Model Training "
   ]
  },
  {
   "cell_type": "code",
   "execution_count": 113,
   "metadata": {},
   "outputs": [
    {
     "name": "stdout",
     "output_type": "stream",
     "text": [
      "Model: \"sequential_2\"\n",
      "_________________________________________________________________\n",
      "Layer (type)                 Output Shape              Param #   \n",
      "=================================================================\n",
      "embedding_2 (Embedding)      (None, 250, 100)          5000000   \n",
      "_________________________________________________________________\n",
      "spatial_dropout1d_2 (Spatial (None, 250, 100)          0         \n",
      "_________________________________________________________________\n",
      "lstm_2 (LSTM)                (None, 100)               80400     \n",
      "_________________________________________________________________\n",
      "dense_2 (Dense)              (None, 5)                 505       \n",
      "=================================================================\n",
      "Total params: 5,080,905\n",
      "Trainable params: 5,080,905\n",
      "Non-trainable params: 0\n",
      "_________________________________________________________________\n",
      "None\n"
     ]
    }
   ],
   "source": [
    "model = Sequential()\n",
    "model.add(Embedding(MAX_NB_WORDS, EMBEDDING_DIM, input_length=X.shape[1]))\n",
    "model.add(SpatialDropout1D(0.2))\n",
    "model.add(LSTM(100, dropout=0.2, recurrent_dropout=0.2))\n",
    "model.add(Dense(5, activation='softmax'))\n",
    "model.compile(loss='categorical_crossentropy', optimizer='adam', metrics=['accuracy'])\n",
    "print(model.summary())"
   ]
  },
  {
   "cell_type": "markdown",
   "metadata": {},
   "source": [
    "## Batch processing"
   ]
  },
  {
   "cell_type": "code",
   "execution_count": 114,
   "metadata": {},
   "outputs": [
    {
     "name": "stderr",
     "output_type": "stream",
     "text": [
      "C:\\Users\\ayu_a\\.conda\\envs\\workspace-gpu\\lib\\site-packages\\tensorflow_core\\python\\framework\\indexed_slices.py:424: UserWarning:\n",
      "\n",
      "Converting sparse IndexedSlices to a dense Tensor of unknown shape. This may consume a large amount of memory.\n",
      "\n"
     ]
    },
    {
     "name": "stdout",
     "output_type": "stream",
     "text": [
      "Train on 1196239 samples, validate on 132916 samples\n",
      "Epoch 1/5\n",
      "1196239/1196239 [==============================] - 7689s 6ms/step - loss: 0.7576 - accuracy: 0.6660 - val_loss: 0.6897 - val_accuracy: 0.6940\n",
      "Epoch 2/5\n",
      "1196239/1196239 [==============================] - 10664s 9ms/step - loss: 0.6696 - accuracy: 0.7072 - val_loss: 0.6690 - val_accuracy: 0.7051\n",
      "Epoch 3/5\n",
      "1196239/1196239 [==============================] - 6701s 6ms/step - loss: 0.6308 - accuracy: 0.7282 - val_loss: 0.6608 - val_accuracy: 0.7133\n",
      "Epoch 4/5\n",
      "1196239/1196239 [==============================] - 7868s 7ms/step - loss: 0.5987 - accuracy: 0.7454 - val_loss: 0.6571 - val_accuracy: 0.7176\n",
      "Epoch 5/5\n",
      "1196239/1196239 [==============================] - 5961s 5ms/step - loss: 0.5718 - accuracy: 0.7595 - val_loss: 0.6546 - val_accuracy: 0.7223\n"
     ]
    }
   ],
   "source": [
    "epochs = 5\n",
    "batch_size = 64\n",
    "\n",
    "history = model.fit(X_train, Y_train, epochs=epochs, batch_size=batch_size,validation_split=0.1,callbacks=[EarlyStopping(monitor='val_loss', patience=3, min_delta=0.0001)])"
   ]
  },
  {
   "cell_type": "code",
   "execution_count": 119,
   "metadata": {},
   "outputs": [
    {
     "data": {
      "text/plain": [
       "array([[1.0245628e-04, 1.7513325e-04, 2.4444382e-03, 1.8806244e-01,\n",
       "        8.0921549e-01],\n",
       "       [9.5818996e-01, 3.8782384e-02, 2.8560306e-03, 1.2588214e-04,\n",
       "        4.5685458e-05],\n",
       "       [9.2310955e-05, 3.2390954e-04, 4.2756936e-03, 3.9902568e-01,\n",
       "        5.9628236e-01],\n",
       "       ...,\n",
       "       [1.2598938e-04, 2.2746113e-03, 6.3549519e-02, 8.9569688e-01,\n",
       "        3.8352940e-02],\n",
       "       [1.1080383e-02, 2.9962507e-01, 4.6426031e-01, 2.1918403e-01,\n",
       "        5.8502164e-03],\n",
       "       [9.2724877e-05, 8.9268846e-04, 6.0167465e-02, 7.6645440e-01,\n",
       "        1.7239277e-01]], dtype=float32)"
      ]
     },
     "execution_count": 119,
     "metadata": {},
     "output_type": "execute_result"
    }
   ],
   "source": [
    "model.predict(X_test)"
   ]
  },
  {
   "cell_type": "markdown",
   "metadata": {},
   "source": [
    "# Model Evaluation"
   ]
  },
  {
   "cell_type": "code",
   "execution_count": 115,
   "metadata": {},
   "outputs": [
    {
     "name": "stdout",
     "output_type": "stream",
     "text": [
      "147684/147684 [==============================] - 809s 5ms/step\n",
      "Test set\n",
      "  Loss: 0.650\n",
      "  Accuracy: 0.726\n"
     ]
    }
   ],
   "source": [
    "accr = model.evaluate(X_test,Y_test)\n",
    "print('Test set\\n  Loss: {:0.3f}\\n  Accuracy: {:0.3f}'.format(accr[0],accr[1]))"
   ]
  },
  {
   "cell_type": "markdown",
   "metadata": {},
   "source": [
    "# Test with a new review."
   ]
  },
  {
   "cell_type": "code",
   "execution_count": 125,
   "metadata": {},
   "outputs": [
    {
     "name": "stdout",
     "output_type": "stream",
     "text": [
      "[[0.15679988 0.46004072 0.36422518 0.01243879 0.00649538]] 2\n"
     ]
    }
   ],
   "source": [
    "new_review = ['The room was dump; there was a small wardrobe which we could not use as it was not pleasant (to me). I will have rather place a open wardrobe.']\n",
    "seq = tokenizer.texts_to_sequences(new_complaint)\n",
    "padded = pad_sequences(seq, maxlen=MAX_SEQUENCE_LENGTH)\n",
    "pred = model.predict(padded)\n",
    "labels = [1,2,3,4,5]\n",
    "print(pred, labels[np.argmax(pred)])"
   ]
  },
  {
   "cell_type": "code",
   "execution_count": null,
   "metadata": {},
   "outputs": [],
   "source": []
  }
 ],
 "metadata": {
  "kernelspec": {
   "display_name": "Python 3",
   "language": "python",
   "name": "python3"
  },
  "language_info": {
   "codemirror_mode": {
    "name": "ipython",
    "version": 3
   },
   "file_extension": ".py",
   "mimetype": "text/x-python",
   "name": "python",
   "nbconvert_exporter": "python",
   "pygments_lexer": "ipython3",
   "version": "3.7.6"
  }
 },
 "nbformat": 4,
 "nbformat_minor": 2
}
