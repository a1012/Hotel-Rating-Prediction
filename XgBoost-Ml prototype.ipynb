{
 "cells": [
  {
   "cell_type": "markdown",
   "metadata": {},
   "source": [
    "# Importing Dependencies"
   ]
  },
  {
   "cell_type": "code",
   "execution_count": 36,
   "metadata": {},
   "outputs": [],
   "source": [
    "import pandas as pd\n",
    "import numpy as np\n",
    "from nltk.corpus import stopwords\n",
    "from nltk.stem import PorterStemmer\n",
    "import re\n",
    "from sklearn.feature_extraction.text import TfidfVectorizer\n",
    "from sklearn.model_selection import train_test_split\n",
    "from sklearn.pipeline import Pipeline\n",
    "import xgboost as xgb\n",
    "from sklearn.metrics import f1_score, classification_report, accuracy_score,confusion_matrix\n",
    "from sklearn.model_selection import train_test_split, StratifiedKFold, GridSearchCV, cross_validate\n"
   ]
  },
  {
   "cell_type": "code",
   "execution_count": 37,
   "metadata": {},
   "outputs": [],
   "source": [
    "#Reading the data\n",
    "df = pd.read_csv('concated.csv')"
   ]
  },
  {
   "cell_type": "code",
   "execution_count": 3,
   "metadata": {},
   "outputs": [
    {
     "data": {
      "text/html": [
       "<div>\n",
       "<style scoped>\n",
       "    .dataframe tbody tr th:only-of-type {\n",
       "        vertical-align: middle;\n",
       "    }\n",
       "\n",
       "    .dataframe tbody tr th {\n",
       "        vertical-align: top;\n",
       "    }\n",
       "\n",
       "    .dataframe thead th {\n",
       "        text-align: right;\n",
       "    }\n",
       "</style>\n",
       "<table border=\"1\" class=\"dataframe\">\n",
       "  <thead>\n",
       "    <tr style=\"text-align: right;\">\n",
       "      <th></th>\n",
       "      <th>Unnamed: 0</th>\n",
       "      <th>HotelName</th>\n",
       "      <th>HotelPrice</th>\n",
       "      <th>HotelAddress</th>\n",
       "      <th>HotelRatings</th>\n",
       "      <th>AuthorName</th>\n",
       "      <th>Authorlocation</th>\n",
       "      <th>Review</th>\n",
       "      <th>title</th>\n",
       "      <th>Service</th>\n",
       "      <th>Cleanliness</th>\n",
       "      <th>Overall</th>\n",
       "      <th>Value</th>\n",
       "      <th>Sleep Quality</th>\n",
       "      <th>Rooms</th>\n",
       "      <th>Location</th>\n",
       "      <th>Business service (e.g., internet access)</th>\n",
       "      <th>Check in / front desk</th>\n",
       "    </tr>\n",
       "  </thead>\n",
       "  <tbody>\n",
       "    <tr>\n",
       "      <th>0</th>\n",
       "      <td>0</td>\n",
       "      <td>Hilton Garden Inn Baltimore White Marsh</td>\n",
       "      <td>$135 - $193*</td>\n",
       "      <td>5015 Campbell Blvd, Baltimore, MD 21236</td>\n",
       "      <td>{'Service': '5', 'Cleanliness': '5', 'Overall'...</td>\n",
       "      <td>Nadine R</td>\n",
       "      <td>Jacksonville, Florida</td>\n",
       "      <td>Usually stay near the airport, but this trip w...</td>\n",
       "      <td>“Great place and location”</td>\n",
       "      <td>5.0</td>\n",
       "      <td>5.0</td>\n",
       "      <td>5.0</td>\n",
       "      <td>5.0</td>\n",
       "      <td>5.0</td>\n",
       "      <td>5.0</td>\n",
       "      <td>5.0</td>\n",
       "      <td>NaN</td>\n",
       "      <td>NaN</td>\n",
       "    </tr>\n",
       "    <tr>\n",
       "      <th>1</th>\n",
       "      <td>1</td>\n",
       "      <td>Hilton Garden Inn Baltimore White Marsh</td>\n",
       "      <td>$135 - $193*</td>\n",
       "      <td>5015 Campbell Blvd, Baltimore, MD 21236</td>\n",
       "      <td>{'Service': '4', 'Cleanliness': '4', 'Overall'...</td>\n",
       "      <td>blt3116</td>\n",
       "      <td>Chillicothe, Ohio</td>\n",
       "      <td>Stayed at this Hilton for 2 nights. It was lik...</td>\n",
       "      <td>“Nice stay, nice surroundings”</td>\n",
       "      <td>4.0</td>\n",
       "      <td>4.0</td>\n",
       "      <td>4.0</td>\n",
       "      <td>4.0</td>\n",
       "      <td>4.0</td>\n",
       "      <td>4.0</td>\n",
       "      <td>5.0</td>\n",
       "      <td>NaN</td>\n",
       "      <td>NaN</td>\n",
       "    </tr>\n",
       "    <tr>\n",
       "      <th>2</th>\n",
       "      <td>2</td>\n",
       "      <td>Hilton Garden Inn Baltimore White Marsh</td>\n",
       "      <td>$135 - $193*</td>\n",
       "      <td>5015 Campbell Blvd, Baltimore, MD 21236</td>\n",
       "      <td>{'Service': '5', 'Cleanliness': '5', 'Overall'...</td>\n",
       "      <td>ExSpec5</td>\n",
       "      <td>Northern Virginia</td>\n",
       "      <td>Stayed there one night, December 16, on the wa...</td>\n",
       "      <td>“Perfect for an overnight just off I-95”</td>\n",
       "      <td>5.0</td>\n",
       "      <td>5.0</td>\n",
       "      <td>4.0</td>\n",
       "      <td>3.0</td>\n",
       "      <td>3.0</td>\n",
       "      <td>5.0</td>\n",
       "      <td>5.0</td>\n",
       "      <td>NaN</td>\n",
       "      <td>NaN</td>\n",
       "    </tr>\n",
       "    <tr>\n",
       "      <th>3</th>\n",
       "      <td>3</td>\n",
       "      <td>Hilton Garden Inn Baltimore White Marsh</td>\n",
       "      <td>$135 - $193*</td>\n",
       "      <td>5015 Campbell Blvd, Baltimore, MD 21236</td>\n",
       "      <td>{'Service': '5', 'Cleanliness': '5', 'Overall'...</td>\n",
       "      <td>kevinlynch3</td>\n",
       "      <td>Raleigh</td>\n",
       "      <td>I just stayed here last weekend and have alrea...</td>\n",
       "      <td>“Great Hotel”</td>\n",
       "      <td>5.0</td>\n",
       "      <td>5.0</td>\n",
       "      <td>5.0</td>\n",
       "      <td>4.0</td>\n",
       "      <td>5.0</td>\n",
       "      <td>5.0</td>\n",
       "      <td>5.0</td>\n",
       "      <td>NaN</td>\n",
       "      <td>NaN</td>\n",
       "    </tr>\n",
       "    <tr>\n",
       "      <th>4</th>\n",
       "      <td>4</td>\n",
       "      <td>Hilton Garden Inn Baltimore White Marsh</td>\n",
       "      <td>$135 - $193*</td>\n",
       "      <td>5015 Campbell Blvd, Baltimore, MD 21236</td>\n",
       "      <td>{'Service': '5', 'Cleanliness': '5', 'Overall'...</td>\n",
       "      <td>nobumponalog</td>\n",
       "      <td>Belmont, MA</td>\n",
       "      <td>My mother who is 90 and I stayed one night on ...</td>\n",
       "      <td>“good room for handicapped person”</td>\n",
       "      <td>5.0</td>\n",
       "      <td>5.0</td>\n",
       "      <td>5.0</td>\n",
       "      <td>4.0</td>\n",
       "      <td>5.0</td>\n",
       "      <td>5.0</td>\n",
       "      <td>5.0</td>\n",
       "      <td>NaN</td>\n",
       "      <td>NaN</td>\n",
       "    </tr>\n",
       "  </tbody>\n",
       "</table>\n",
       "</div>"
      ],
      "text/plain": [
       "   Unnamed: 0                                HotelName    HotelPrice  \\\n",
       "0           0  Hilton Garden Inn Baltimore White Marsh  $135 - $193*   \n",
       "1           1  Hilton Garden Inn Baltimore White Marsh  $135 - $193*   \n",
       "2           2  Hilton Garden Inn Baltimore White Marsh  $135 - $193*   \n",
       "3           3  Hilton Garden Inn Baltimore White Marsh  $135 - $193*   \n",
       "4           4  Hilton Garden Inn Baltimore White Marsh  $135 - $193*   \n",
       "\n",
       "                               HotelAddress  \\\n",
       "0  5015 Campbell Blvd, Baltimore, MD 21236    \n",
       "1  5015 Campbell Blvd, Baltimore, MD 21236    \n",
       "2  5015 Campbell Blvd, Baltimore, MD 21236    \n",
       "3  5015 Campbell Blvd, Baltimore, MD 21236    \n",
       "4  5015 Campbell Blvd, Baltimore, MD 21236    \n",
       "\n",
       "                                        HotelRatings    AuthorName  \\\n",
       "0  {'Service': '5', 'Cleanliness': '5', 'Overall'...      Nadine R   \n",
       "1  {'Service': '4', 'Cleanliness': '4', 'Overall'...       blt3116   \n",
       "2  {'Service': '5', 'Cleanliness': '5', 'Overall'...       ExSpec5   \n",
       "3  {'Service': '5', 'Cleanliness': '5', 'Overall'...   kevinlynch3   \n",
       "4  {'Service': '5', 'Cleanliness': '5', 'Overall'...  nobumponalog   \n",
       "\n",
       "          Authorlocation                                             Review  \\\n",
       "0  Jacksonville, Florida  Usually stay near the airport, but this trip w...   \n",
       "1      Chillicothe, Ohio  Stayed at this Hilton for 2 nights. It was lik...   \n",
       "2      Northern Virginia  Stayed there one night, December 16, on the wa...   \n",
       "3                Raleigh  I just stayed here last weekend and have alrea...   \n",
       "4            Belmont, MA  My mother who is 90 and I stayed one night on ...   \n",
       "\n",
       "                                      title  Service  Cleanliness  Overall  \\\n",
       "0                “Great place and location”      5.0          5.0      5.0   \n",
       "1            “Nice stay, nice surroundings”      4.0          4.0      4.0   \n",
       "2  “Perfect for an overnight just off I-95”      5.0          5.0      4.0   \n",
       "3                             “Great Hotel”      5.0          5.0      5.0   \n",
       "4        “good room for handicapped person”      5.0          5.0      5.0   \n",
       "\n",
       "   Value  Sleep Quality  Rooms  Location  \\\n",
       "0    5.0            5.0    5.0       5.0   \n",
       "1    4.0            4.0    4.0       5.0   \n",
       "2    3.0            3.0    5.0       5.0   \n",
       "3    4.0            5.0    5.0       5.0   \n",
       "4    4.0            5.0    5.0       5.0   \n",
       "\n",
       "   Business service (e.g., internet access)  Check in / front desk  \n",
       "0                                       NaN                    NaN  \n",
       "1                                       NaN                    NaN  \n",
       "2                                       NaN                    NaN  \n",
       "3                                       NaN                    NaN  \n",
       "4                                       NaN                    NaN  "
      ]
     },
     "execution_count": 3,
     "metadata": {},
     "output_type": "execute_result"
    }
   ],
   "source": [
    "df.head()"
   ]
  },
  {
   "cell_type": "code",
   "execution_count": 38,
   "metadata": {},
   "outputs": [],
   "source": [
    "#Droping the unwanted columns\n",
    "df.drop(['HotelRatings','HotelAddress','HotelName','Unnamed: 0','Authorlocation','AuthorName'],axis=1,inplace=True)"
   ]
  },
  {
   "cell_type": "code",
   "execution_count": 39,
   "metadata": {},
   "outputs": [
    {
     "data": {
      "text/html": [
       "<div>\n",
       "<style scoped>\n",
       "    .dataframe tbody tr th:only-of-type {\n",
       "        vertical-align: middle;\n",
       "    }\n",
       "\n",
       "    .dataframe tbody tr th {\n",
       "        vertical-align: top;\n",
       "    }\n",
       "\n",
       "    .dataframe thead th {\n",
       "        text-align: right;\n",
       "    }\n",
       "</style>\n",
       "<table border=\"1\" class=\"dataframe\">\n",
       "  <thead>\n",
       "    <tr style=\"text-align: right;\">\n",
       "      <th></th>\n",
       "      <th>HotelPrice</th>\n",
       "      <th>Review</th>\n",
       "      <th>title</th>\n",
       "      <th>Service</th>\n",
       "      <th>Cleanliness</th>\n",
       "      <th>Overall</th>\n",
       "      <th>Value</th>\n",
       "      <th>Sleep Quality</th>\n",
       "      <th>Rooms</th>\n",
       "      <th>Location</th>\n",
       "      <th>Business service (e.g., internet access)</th>\n",
       "      <th>Check in / front desk</th>\n",
       "    </tr>\n",
       "  </thead>\n",
       "  <tbody>\n",
       "    <tr>\n",
       "      <th>0</th>\n",
       "      <td>$135 - $193*</td>\n",
       "      <td>Usually stay near the airport, but this trip w...</td>\n",
       "      <td>“Great place and location”</td>\n",
       "      <td>5.0</td>\n",
       "      <td>5.0</td>\n",
       "      <td>5.0</td>\n",
       "      <td>5.0</td>\n",
       "      <td>5.0</td>\n",
       "      <td>5.0</td>\n",
       "      <td>5.0</td>\n",
       "      <td>NaN</td>\n",
       "      <td>NaN</td>\n",
       "    </tr>\n",
       "    <tr>\n",
       "      <th>1</th>\n",
       "      <td>$135 - $193*</td>\n",
       "      <td>Stayed at this Hilton for 2 nights. It was lik...</td>\n",
       "      <td>“Nice stay, nice surroundings”</td>\n",
       "      <td>4.0</td>\n",
       "      <td>4.0</td>\n",
       "      <td>4.0</td>\n",
       "      <td>4.0</td>\n",
       "      <td>4.0</td>\n",
       "      <td>4.0</td>\n",
       "      <td>5.0</td>\n",
       "      <td>NaN</td>\n",
       "      <td>NaN</td>\n",
       "    </tr>\n",
       "    <tr>\n",
       "      <th>2</th>\n",
       "      <td>$135 - $193*</td>\n",
       "      <td>Stayed there one night, December 16, on the wa...</td>\n",
       "      <td>“Perfect for an overnight just off I-95”</td>\n",
       "      <td>5.0</td>\n",
       "      <td>5.0</td>\n",
       "      <td>4.0</td>\n",
       "      <td>3.0</td>\n",
       "      <td>3.0</td>\n",
       "      <td>5.0</td>\n",
       "      <td>5.0</td>\n",
       "      <td>NaN</td>\n",
       "      <td>NaN</td>\n",
       "    </tr>\n",
       "    <tr>\n",
       "      <th>3</th>\n",
       "      <td>$135 - $193*</td>\n",
       "      <td>I just stayed here last weekend and have alrea...</td>\n",
       "      <td>“Great Hotel”</td>\n",
       "      <td>5.0</td>\n",
       "      <td>5.0</td>\n",
       "      <td>5.0</td>\n",
       "      <td>4.0</td>\n",
       "      <td>5.0</td>\n",
       "      <td>5.0</td>\n",
       "      <td>5.0</td>\n",
       "      <td>NaN</td>\n",
       "      <td>NaN</td>\n",
       "    </tr>\n",
       "    <tr>\n",
       "      <th>4</th>\n",
       "      <td>$135 - $193*</td>\n",
       "      <td>My mother who is 90 and I stayed one night on ...</td>\n",
       "      <td>“good room for handicapped person”</td>\n",
       "      <td>5.0</td>\n",
       "      <td>5.0</td>\n",
       "      <td>5.0</td>\n",
       "      <td>4.0</td>\n",
       "      <td>5.0</td>\n",
       "      <td>5.0</td>\n",
       "      <td>5.0</td>\n",
       "      <td>NaN</td>\n",
       "      <td>NaN</td>\n",
       "    </tr>\n",
       "  </tbody>\n",
       "</table>\n",
       "</div>"
      ],
      "text/plain": [
       "     HotelPrice                                             Review  \\\n",
       "0  $135 - $193*  Usually stay near the airport, but this trip w...   \n",
       "1  $135 - $193*  Stayed at this Hilton for 2 nights. It was lik...   \n",
       "2  $135 - $193*  Stayed there one night, December 16, on the wa...   \n",
       "3  $135 - $193*  I just stayed here last weekend and have alrea...   \n",
       "4  $135 - $193*  My mother who is 90 and I stayed one night on ...   \n",
       "\n",
       "                                      title  Service  Cleanliness  Overall  \\\n",
       "0                “Great place and location”      5.0          5.0      5.0   \n",
       "1            “Nice stay, nice surroundings”      4.0          4.0      4.0   \n",
       "2  “Perfect for an overnight just off I-95”      5.0          5.0      4.0   \n",
       "3                             “Great Hotel”      5.0          5.0      5.0   \n",
       "4        “good room for handicapped person”      5.0          5.0      5.0   \n",
       "\n",
       "   Value  Sleep Quality  Rooms  Location  \\\n",
       "0    5.0            5.0    5.0       5.0   \n",
       "1    4.0            4.0    4.0       5.0   \n",
       "2    3.0            3.0    5.0       5.0   \n",
       "3    4.0            5.0    5.0       5.0   \n",
       "4    4.0            5.0    5.0       5.0   \n",
       "\n",
       "   Business service (e.g., internet access)  Check in / front desk  \n",
       "0                                       NaN                    NaN  \n",
       "1                                       NaN                    NaN  \n",
       "2                                       NaN                    NaN  \n",
       "3                                       NaN                    NaN  \n",
       "4                                       NaN                    NaN  "
      ]
     },
     "execution_count": 39,
     "metadata": {},
     "output_type": "execute_result"
    }
   ],
   "source": [
    "df.head()"
   ]
  },
  {
   "cell_type": "code",
   "execution_count": 40,
   "metadata": {},
   "outputs": [
    {
     "data": {
      "text/plain": [
       "HotelPrice                                   0.000000\n",
       "Review                                       0.000000\n",
       "title                                        0.000000\n",
       "Service                                      9.054203\n",
       "Cleanliness                                  9.181028\n",
       "Overall                                      0.000000\n",
       "Value                                        9.029691\n",
       "Sleep Quality                               47.947068\n",
       "Rooms                                       17.773840\n",
       "Location                                    22.571790\n",
       "Business service (e.g., internet access)    89.300052\n",
       "Check in / front desk                       82.523484\n",
       "dtype: float64"
      ]
     },
     "execution_count": 40,
     "metadata": {},
     "output_type": "execute_result"
    }
   ],
   "source": [
    "#Checking the null values\n",
    "(df.isnull().sum(axis=0)/len(df))*100"
   ]
  },
  {
   "cell_type": "code",
   "execution_count": 7,
   "metadata": {},
   "outputs": [],
   "source": [
    "#Dropingcolumns having null values with high percentage\n",
    "df.drop(['Sleep Quality','Business service (e.g., internet access)','Check in / front desk'],axis=1,inplace=True)"
   ]
  },
  {
   "cell_type": "code",
   "execution_count": 8,
   "metadata": {},
   "outputs": [],
   "source": [
    "df[\"ReviewDetails\"]=df['title']+\" \"+df[\"Review\"]"
   ]
  },
  {
   "cell_type": "code",
   "execution_count": 9,
   "metadata": {},
   "outputs": [
    {
     "data": {
      "text/html": [
       "<div>\n",
       "<style scoped>\n",
       "    .dataframe tbody tr th:only-of-type {\n",
       "        vertical-align: middle;\n",
       "    }\n",
       "\n",
       "    .dataframe tbody tr th {\n",
       "        vertical-align: top;\n",
       "    }\n",
       "\n",
       "    .dataframe thead th {\n",
       "        text-align: right;\n",
       "    }\n",
       "</style>\n",
       "<table border=\"1\" class=\"dataframe\">\n",
       "  <thead>\n",
       "    <tr style=\"text-align: right;\">\n",
       "      <th></th>\n",
       "      <th>HotelPrice</th>\n",
       "      <th>Review</th>\n",
       "      <th>title</th>\n",
       "      <th>Service</th>\n",
       "      <th>Cleanliness</th>\n",
       "      <th>Overall</th>\n",
       "      <th>Value</th>\n",
       "      <th>Rooms</th>\n",
       "      <th>Location</th>\n",
       "      <th>ReviewDetails</th>\n",
       "    </tr>\n",
       "  </thead>\n",
       "  <tbody>\n",
       "    <tr>\n",
       "      <th>0</th>\n",
       "      <td>$135 - $193*</td>\n",
       "      <td>Usually stay near the airport, but this trip w...</td>\n",
       "      <td>“Great place and location”</td>\n",
       "      <td>5.0</td>\n",
       "      <td>5.0</td>\n",
       "      <td>5.0</td>\n",
       "      <td>5.0</td>\n",
       "      <td>5.0</td>\n",
       "      <td>5.0</td>\n",
       "      <td>“Great place and location” Usually stay near t...</td>\n",
       "    </tr>\n",
       "    <tr>\n",
       "      <th>1</th>\n",
       "      <td>$135 - $193*</td>\n",
       "      <td>Stayed at this Hilton for 2 nights. It was lik...</td>\n",
       "      <td>“Nice stay, nice surroundings”</td>\n",
       "      <td>4.0</td>\n",
       "      <td>4.0</td>\n",
       "      <td>4.0</td>\n",
       "      <td>4.0</td>\n",
       "      <td>4.0</td>\n",
       "      <td>5.0</td>\n",
       "      <td>“Nice stay, nice surroundings” Stayed at this ...</td>\n",
       "    </tr>\n",
       "    <tr>\n",
       "      <th>2</th>\n",
       "      <td>$135 - $193*</td>\n",
       "      <td>Stayed there one night, December 16, on the wa...</td>\n",
       "      <td>“Perfect for an overnight just off I-95”</td>\n",
       "      <td>5.0</td>\n",
       "      <td>5.0</td>\n",
       "      <td>4.0</td>\n",
       "      <td>3.0</td>\n",
       "      <td>5.0</td>\n",
       "      <td>5.0</td>\n",
       "      <td>“Perfect for an overnight just off I-95” Staye...</td>\n",
       "    </tr>\n",
       "    <tr>\n",
       "      <th>3</th>\n",
       "      <td>$135 - $193*</td>\n",
       "      <td>I just stayed here last weekend and have alrea...</td>\n",
       "      <td>“Great Hotel”</td>\n",
       "      <td>5.0</td>\n",
       "      <td>5.0</td>\n",
       "      <td>5.0</td>\n",
       "      <td>4.0</td>\n",
       "      <td>5.0</td>\n",
       "      <td>5.0</td>\n",
       "      <td>“Great Hotel” I just stayed here last weekend ...</td>\n",
       "    </tr>\n",
       "    <tr>\n",
       "      <th>4</th>\n",
       "      <td>$135 - $193*</td>\n",
       "      <td>My mother who is 90 and I stayed one night on ...</td>\n",
       "      <td>“good room for handicapped person”</td>\n",
       "      <td>5.0</td>\n",
       "      <td>5.0</td>\n",
       "      <td>5.0</td>\n",
       "      <td>4.0</td>\n",
       "      <td>5.0</td>\n",
       "      <td>5.0</td>\n",
       "      <td>“good room for handicapped person” My mother w...</td>\n",
       "    </tr>\n",
       "  </tbody>\n",
       "</table>\n",
       "</div>"
      ],
      "text/plain": [
       "     HotelPrice                                             Review  \\\n",
       "0  $135 - $193*  Usually stay near the airport, but this trip w...   \n",
       "1  $135 - $193*  Stayed at this Hilton for 2 nights. It was lik...   \n",
       "2  $135 - $193*  Stayed there one night, December 16, on the wa...   \n",
       "3  $135 - $193*  I just stayed here last weekend and have alrea...   \n",
       "4  $135 - $193*  My mother who is 90 and I stayed one night on ...   \n",
       "\n",
       "                                      title  Service  Cleanliness  Overall  \\\n",
       "0                “Great place and location”      5.0          5.0      5.0   \n",
       "1            “Nice stay, nice surroundings”      4.0          4.0      4.0   \n",
       "2  “Perfect for an overnight just off I-95”      5.0          5.0      4.0   \n",
       "3                             “Great Hotel”      5.0          5.0      5.0   \n",
       "4        “good room for handicapped person”      5.0          5.0      5.0   \n",
       "\n",
       "   Value  Rooms  Location                                      ReviewDetails  \n",
       "0    5.0    5.0       5.0  “Great place and location” Usually stay near t...  \n",
       "1    4.0    4.0       5.0  “Nice stay, nice surroundings” Stayed at this ...  \n",
       "2    3.0    5.0       5.0  “Perfect for an overnight just off I-95” Staye...  \n",
       "3    4.0    5.0       5.0  “Great Hotel” I just stayed here last weekend ...  \n",
       "4    4.0    5.0       5.0  “good room for handicapped person” My mother w...  "
      ]
     },
     "execution_count": 9,
     "metadata": {},
     "output_type": "execute_result"
    }
   ],
   "source": [
    "df.head()"
   ]
  },
  {
   "cell_type": "markdown",
   "metadata": {},
   "source": [
    "####  Stop words  removal and  Stemming"
   ]
  },
  {
   "cell_type": "code",
   "execution_count": 20,
   "metadata": {
    "scrolled": true
   },
   "outputs": [],
   "source": [
    "\n",
    "stemmer = PorterStemmer()\n",
    "words=stopwords.words(\"english\")\n",
    "df['cleaned'] = df['ReviewDetails'].apply(lambda x: \" \".join([stemmer.stem(i) for i in re.sub(\"[^a-zA-Z]\", \" \", x).split() if i not in words]).lower())"
   ]
  },
  {
   "cell_type": "code",
   "execution_count": 21,
   "metadata": {
    "scrolled": false
   },
   "outputs": [
    {
     "data": {
      "text/plain": [
       "0    great place locat usual stay near airport trip...\n",
       "1    nice stay nice surround stay hilton night it l...\n",
       "2    perfect overnight i stay one night decemb way ...\n",
       "3    great hotel i stay last weekend alreadi plan s...\n",
       "4    good room handicap person my mother i stay one...\n",
       "Name: cleaned, dtype: object"
      ]
     },
     "execution_count": 21,
     "metadata": {},
     "output_type": "execute_result"
    }
   ],
   "source": [
    "df['cleaned'].head()"
   ]
  },
  {
   "cell_type": "code",
   "execution_count": null,
   "metadata": {},
   "outputs": [],
   "source": [
    "df['Cleaned_with_price'] = df['cleaned']+\" \"+df['HotelPrice']"
   ]
  },
  {
   "cell_type": "code",
   "execution_count": null,
   "metadata": {},
   "outputs": [],
   "source": [
    "df['Cleaned_with_price'].to_pickle(\"cleaned.pkl\")"
   ]
  },
  {
   "cell_type": "code",
   "execution_count": 9,
   "metadata": {},
   "outputs": [],
   "source": [
    "df_cleaned=pd.read_pickle(\"cleaned.pkl\")"
   ]
  },
  {
   "cell_type": "code",
   "execution_count": 10,
   "metadata": {},
   "outputs": [],
   "source": [
    "df['Overall'] =df['Overall'].astype('str')"
   ]
  },
  {
   "cell_type": "markdown",
   "metadata": {},
   "source": [
    "#### Train and test split"
   ]
  },
  {
   "cell_type": "code",
   "execution_count": 12,
   "metadata": {},
   "outputs": [],
   "source": [
    "X_train, X_test, Y_train, Y_test = train_test_split(df_cleaned,df['Overall'], test_size = 0.10, random_state = 42)"
   ]
  },
  {
   "cell_type": "markdown",
   "metadata": {},
   "source": [
    "# TF-IDF "
   ]
  },
  {
   "cell_type": "code",
   "execution_count": 13,
   "metadata": {},
   "outputs": [
    {
     "data": {
      "text/plain": [
       "(1329155, 112)"
      ]
     },
     "execution_count": 13,
     "metadata": {},
     "output_type": "execute_result"
    }
   ],
   "source": [
    "#TF-IDF on Training set\n",
    "vectorizer=TfidfVectorizer(min_df=0.1,stop_words=\"english\",sublinear_tf=True,ngram_range=(1,1),norm='l2')\n",
    "final_features_train = vectorizer.fit(X_train)\n",
    "final_features_train = vectorizer.transform(X_train)\n",
    "final_features_train.shape"
   ]
  },
  {
   "cell_type": "code",
   "execution_count": 78,
   "metadata": {},
   "outputs": [
    {
     "data": {
      "text/plain": [
       "(147684, 112)"
      ]
     },
     "execution_count": 78,
     "metadata": {},
     "output_type": "execute_result"
    }
   ],
   "source": [
    "#TF-IDF on Test set\n",
    "vectorizer=TfidfVectorizer(min_df=0.1,stop_words=\"english\",sublinear_tf=True,ngram_range=(1,1),norm='l2')\n",
    "vectorizer=vectorizer.fit(X_test)\n",
    "final_features_test = vectorizer.transform(X_test)\n",
    "final_features_test.shape"
   ]
  },
  {
   "cell_type": "markdown",
   "metadata": {},
   "source": [
    "# XgBoost Model ,Training and testing"
   ]
  },
  {
   "cell_type": "code",
   "execution_count": 85,
   "metadata": {},
   "outputs": [],
   "source": [
    "RANDOM_STATE = 100"
   ]
  },
  {
   "cell_type": "code",
   "execution_count": 86,
   "metadata": {},
   "outputs": [],
   "source": [
    "xgb_model = xgb.XGBClassifier(max_depth=10, random_state=RANDOM_STATE,\n",
    "learning_rate=0.1, colsample_bytree=.7, gamma=0, alpha=0,objective='multi:softmax', eta=0.3,subsample=0.8).fit(final_features_train, Y_train) "
   ]
  },
  {
   "cell_type": "code",
   "execution_count": 87,
   "metadata": {},
   "outputs": [],
   "source": [
    "xgb_prediction = xgb_model.predict(final_features_train)"
   ]
  },
  {
   "cell_type": "code",
   "execution_count": 44,
   "metadata": {},
   "outputs": [],
   "source": [
    "xgb_prediction = xgb_model.predict(final_features_test)"
   ]
  },
  {
   "cell_type": "markdown",
   "metadata": {},
   "source": [
    "# Model evaluation"
   ]
  },
  {
   "cell_type": "markdown",
   "metadata": {},
   "source": [
    "##### Training score"
   ]
  },
  {
   "cell_type": "code",
   "execution_count": 88,
   "metadata": {},
   "outputs": [
    {
     "name": "stdout",
     "output_type": "stream",
     "text": [
      "training score: 0.48326342993590926\n"
     ]
    }
   ],
   "source": [
    "print('training score:', f1_score(Y_train, xgb_model.predict(final_features_train), average='macro'))"
   ]
  },
  {
   "cell_type": "code",
   "execution_count": 42,
   "metadata": {},
   "outputs": [
    {
     "name": "stderr",
     "output_type": "stream",
     "text": [
      "C:\\Users\\ayu_a\\.conda\\envs\\workspace-gpu\\lib\\site-packages\\sklearn\\metrics\\_classification.py:1272: UndefinedMetricWarning: Precision and F-score are ill-defined and being set to 0.0 in labels with no predicted samples. Use `zero_division` parameter to control this behavior.\n",
      "  _warn_prf(average, modifier, msg_start, len(result))\n"
     ]
    },
    {
     "name": "stdout",
     "output_type": "stream",
     "text": [
      "              precision    recall  f1-score   support\n",
      "\n",
      "         0.0       0.00      0.00      0.00         1\n",
      "         1.0       0.61      0.71      0.66     89294\n",
      "         2.0       0.70      0.29      0.41     93285\n",
      "         3.0       0.61      0.35      0.45    175595\n",
      "         4.0       0.60      0.63      0.62    417448\n",
      "         5.0       0.71      0.84      0.77    553532\n",
      "\n",
      "    accuracy                           0.66   1329155\n",
      "   macro avg       0.54      0.47      0.48   1329155\n",
      "weighted avg       0.66      0.66      0.65   1329155\n",
      "\n"
     ]
    }
   ],
   "source": [
    "print(classification_report(Y_train, xgb_model.predict(final_features_train)))"
   ]
  },
  {
   "cell_type": "markdown",
   "metadata": {},
   "source": [
    "##### Testing score"
   ]
  },
  {
   "cell_type": "code",
   "execution_count": 46,
   "metadata": {
    "scrolled": true
   },
   "outputs": [
    {
     "name": "stdout",
     "output_type": "stream",
     "text": [
      "validation score: 0.49717569867088107\n",
      "              precision    recall  f1-score   support\n",
      "\n",
      "         1.0       0.56      0.63      0.60      9879\n",
      "         2.0       0.49      0.17      0.26     10133\n",
      "         3.0       0.49      0.27      0.35     19526\n",
      "         4.0       0.54      0.57      0.55     46202\n",
      "         5.0       0.68      0.80      0.73     61944\n",
      "\n",
      "    accuracy                           0.60    147684\n",
      "   macro avg       0.55      0.49      0.50    147684\n",
      "weighted avg       0.59      0.60      0.58    147684\n",
      "\n"
     ]
    }
   ],
   "source": [
    "print('validation score:', f1_score(Y_test, xgb_prediction, average='macro'))\n",
    "print(classification_report(Y_test, xgb_prediction))"
   ]
  },
  {
   "cell_type": "code",
   "execution_count": 50,
   "metadata": {},
   "outputs": [
    {
     "data": {
      "text/plain": [
       "0.6042428428265757"
      ]
     },
     "execution_count": 50,
     "metadata": {},
     "output_type": "execute_result"
    }
   ],
   "source": [
    "accuracy = accuracy_score(Y_test, xgb_prediction)\n",
    "accuracy"
   ]
  },
  {
   "cell_type": "code",
   "execution_count": 48,
   "metadata": {
    "scrolled": true
   },
   "outputs": [
    {
     "data": {
      "text/plain": [
       "array([[ 6257,   743,   927,   752,  1200],\n",
       "       [ 2370,  1757,  2093,  2306,  1607],\n",
       "       [ 1318,   699,  5247,  8665,  3597],\n",
       "       [  518,   265,  1817, 26247, 17355],\n",
       "       [  653,   143,   650, 10769, 49729]], dtype=int64)"
      ]
     },
     "execution_count": 48,
     "metadata": {},
     "output_type": "execute_result"
    }
   ],
   "source": [
    "#Confusion Matrix\n",
    "confusion_matrix(Y_test, xgb_prediction)"
   ]
  },
  {
   "cell_type": "markdown",
   "metadata": {},
   "source": [
    "# Test with a new review."
   ]
  },
  {
   "cell_type": "code",
   "execution_count": 79,
   "metadata": {},
   "outputs": [
    {
     "data": {
      "text/plain": [
       "scipy.sparse.csr.csr_matrix"
      ]
     },
     "execution_count": 79,
     "metadata": {},
     "output_type": "execute_result"
    }
   ],
   "source": [
    "new_review = ['The room was dump; there was a small wardrobe which we could not use as it was not pleasant (to me). I will have rather place a open wardrobe.']\n",
    "#TF-IDF on Test set\n",
    "final_features_new = vectorizer.transform(new_review)\n",
    "type(final_features_new)\n",
    "#final_features_new=final_features_new.toarray()\n",
    "#final_features_new.shape"
   ]
  },
  {
   "cell_type": "code",
   "execution_count": 80,
   "metadata": {},
   "outputs": [
    {
     "data": {
      "text/plain": [
       "(1, 112)"
      ]
     },
     "execution_count": 80,
     "metadata": {},
     "output_type": "execute_result"
    }
   ],
   "source": [
    "final_features_new.shape"
   ]
  },
  {
   "cell_type": "code",
   "execution_count": 82,
   "metadata": {},
   "outputs": [
    {
     "name": "stdout",
     "output_type": "stream",
     "text": [
      "['1.0']\n"
     ]
    }
   ],
   "source": [
    "pred = xgb_model.predict(final_features_new)\n",
    "#labels = [1,2,3,4,5]\n",
    "print(\"rating for given Review : \",pred)"
   ]
  }
 ],
 "metadata": {
  "kernelspec": {
   "display_name": "Python 3",
   "language": "python",
   "name": "python3"
  },
  "language_info": {
   "codemirror_mode": {
    "name": "ipython",
    "version": 3
   },
   "file_extension": ".py",
   "mimetype": "text/x-python",
   "name": "python",
   "nbconvert_exporter": "python",
   "pygments_lexer": "ipython3",
   "version": "3.7.6"
  }
 },
 "nbformat": 4,
 "nbformat_minor": 2
}
